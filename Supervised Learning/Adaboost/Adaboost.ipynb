{
 "cells": [
  {
   "cell_type": "markdown",
   "metadata": {},
   "source": [
    "# <CENTER> ADABOOST"
   ]
  },
  {
   "cell_type": "markdown",
   "metadata": {},
   "source": [
    "<center>  <img src=\"https://i.imgur.com/l7VIdCY.png\" width=\"200\"> <center> \n",
    "\n",
    "\n"
   ]
  },
  {
   "cell_type": "markdown",
   "metadata": {},
   "source": [
    "#### BANK MARKETING:\n",
    "Para este proyecto se empleo la data de UCI: https://archive.ics.uci.edu/ml/datasets/Bank+Marketing <p>\n",
    "\n",
    "Se evaluará un dataset compuesto por datos de campañas de marketing directo (llamadas telefónicas) de una institución bancaria portuguesa. El objetivo es predecir si un cliente se va a suscribir a un depósito a plazo fijo."
   ]
  },
  {
   "cell_type": "markdown",
   "metadata": {},
   "source": [
    "###### RESUMEN DATASET:\n",
    "<b><u>Predictoras:</u></b> <p>\n",
    "\n",
    "###### a) Datos del cliente:\n",
    "| <center>Nombre |<center> Tipo | <center>Descripción |\n",
    "|------|------|-------------|\n",
    "|<P ALIGN=\"justify\">   age  | numérico | <P ALIGN=\"justify\">Edad del cliente |\n",
    "|<P ALIGN=\"justify\">   job  | categórico | <P ALIGN=\"justify\"> Tipo de empleo: 'admin.','blue_collar','entrepreneur','housemaid','management',<br>'retired','self_employed','services','student','technician','unemployed','unknown' |\n",
    "|<P ALIGN=\"justify\">   marital  | categórico | <P ALIGN=\"justify\">Estado civil:'divorced','married','single','unknown'; note: 'divorced' means divorced or widowed |\n",
    "|<P ALIGN=\"justify\">   education  | categórico | <P ALIGN=\"justify\">Nivel de educación: primary, secondary, tertiary and unknown |\n",
    "| <P ALIGN=\"justify\">  default  | categórico | <P ALIGN=\"justify\">Tiene crédito por \"default\"? (no, yes, unknown) |\n",
    "|<P ALIGN=\"justify\">   housing  | categórico | <P ALIGN=\"justify\">Tiene prestamo de vivienda? (no, yes, unknown)|\n",
    "|<P ALIGN=\"justify\">   loan  | categórico | <P ALIGN=\"justify\">Tiene prestamo personal? (no, yes, unknown)|\n",
    "| <P ALIGN=\"justify\">  balance  | numérico | <P ALIGN=\"justify\">Balance anual promedio en euros |\n",
    "\n",
    "<br>\n",
    "<br>\n",
    "\n",
    "###### b) Datos relacionados con el último contacto de la campaña actual:\n",
    "\n",
    "| <center>Nombre |<center> Tipo | <center>Descripción |\n",
    "|------|------|-------------|\n",
    "|<P ALIGN=\"justify\">   contact  | categórico | <P ALIGN=\"justify\">Tipo de comunicación del contacto ('cellular','telephone') |\n",
    "|<P ALIGN=\"justify\">   month  | categórico | <P ALIGN=\"justify\"> Último mes de contacto en el año ('jan', 'feb', 'mar', ..., 'nov', 'dec') |\n",
    "|<P ALIGN=\"justify\">   day  | categórico | <P ALIGN=\"justify\">Último día de contacto de la semana ('mon','tue','wed','thu','fri') |\n",
    "|<P ALIGN=\"justify\">   duration  | numérico | <P ALIGN=\"justify\">Duración del último contacto (en segundos) |\n",
    "\n",
    "<br>\n",
    "<br>\n",
    "\n",
    "###### c) Otros atributos:\n",
    "\n",
    "| <center>Nombre |<center> Tipo | <center>Descripción |\n",
    "|------|------|-------------|\n",
    "|<P ALIGN=\"justify\">   campaign  | numérico | <P ALIGN=\"justify\">Cantidad de contactos realizados durante esta campaña y para este cliente (incluye el último contacto) |\n",
    "|<P ALIGN=\"justify\">   pdays  | numérico| <P ALIGN=\"justify\"> Cantidad de días que pasaron después de que el cliente fue contactado por última vez desde una campaña anterior (-1 significa que el cliente no fue contactado previamente) |\n",
    "|<P ALIGN=\"justify\">   previous | numérico | <P ALIGN=\"justify\">Cantidad de contactos realizados antes de esta campaña y para este cliente (numérico) |\n",
    "|<P ALIGN=\"justify\">   poutcome  | categórico | <P ALIGN=\"justify\">Resultado de la campaña de marketing anterior (categórico: 'fracaso', 'inexistente', 'éxito') |\n",
    "\n",
    "<b><u>Target:</u></b> <p>\n",
    "    \n",
    "| <center>Nombre |<center> Tipo | <center>Descripción |\n",
    "|------|------|-------------|\n",
    "|<P ALIGN=\"justify\">   y  | binario | <P ALIGN=\"justify\">El cliente se ha suscrito a un depósito a plazo? ('yes','no') |"
   ]
  },
  {
   "cell_type": "code",
   "execution_count": 1,
   "metadata": {},
   "outputs": [],
   "source": [
    "#import modules\n",
    "import numpy as np\n",
    "import pandas as pd # dataframes\n",
    "import matplotlib.pyplot as plt # Graficos\n",
    "import seaborn as sns # graficos\n",
    "% matplotlib inline"
   ]
  },
  {
   "cell_type": "code",
   "execution_count": 2,
   "metadata": {},
   "outputs": [],
   "source": [
    "#Para directorio local\n",
    "file=\"bank.csv\""
   ]
  },
  {
   "cell_type": "code",
   "execution_count": 3,
   "metadata": {},
   "outputs": [
    {
     "data": {
      "text/html": [
       "<div>\n",
       "<style scoped>\n",
       "    .dataframe tbody tr th:only-of-type {\n",
       "        vertical-align: middle;\n",
       "    }\n",
       "\n",
       "    .dataframe tbody tr th {\n",
       "        vertical-align: top;\n",
       "    }\n",
       "\n",
       "    .dataframe thead th {\n",
       "        text-align: right;\n",
       "    }\n",
       "</style>\n",
       "<table border=\"1\" class=\"dataframe\">\n",
       "  <thead>\n",
       "    <tr style=\"text-align: right;\">\n",
       "      <th></th>\n",
       "      <th>age</th>\n",
       "      <th>job</th>\n",
       "      <th>marital</th>\n",
       "      <th>education</th>\n",
       "      <th>default</th>\n",
       "      <th>balance</th>\n",
       "      <th>housing</th>\n",
       "      <th>loan</th>\n",
       "      <th>contact</th>\n",
       "      <th>day</th>\n",
       "      <th>month</th>\n",
       "      <th>duration</th>\n",
       "      <th>campaign</th>\n",
       "      <th>pdays</th>\n",
       "      <th>previous</th>\n",
       "      <th>poutcome</th>\n",
       "      <th>y</th>\n",
       "    </tr>\n",
       "  </thead>\n",
       "  <tbody>\n",
       "    <tr>\n",
       "      <th>0</th>\n",
       "      <td>30</td>\n",
       "      <td>unemployed</td>\n",
       "      <td>married</td>\n",
       "      <td>primary</td>\n",
       "      <td>no</td>\n",
       "      <td>1787</td>\n",
       "      <td>no</td>\n",
       "      <td>no</td>\n",
       "      <td>cellular</td>\n",
       "      <td>19</td>\n",
       "      <td>oct</td>\n",
       "      <td>79</td>\n",
       "      <td>1</td>\n",
       "      <td>-1</td>\n",
       "      <td>0</td>\n",
       "      <td>unknown</td>\n",
       "      <td>no</td>\n",
       "    </tr>\n",
       "    <tr>\n",
       "      <th>1</th>\n",
       "      <td>33</td>\n",
       "      <td>services</td>\n",
       "      <td>married</td>\n",
       "      <td>secondary</td>\n",
       "      <td>no</td>\n",
       "      <td>4789</td>\n",
       "      <td>yes</td>\n",
       "      <td>yes</td>\n",
       "      <td>cellular</td>\n",
       "      <td>11</td>\n",
       "      <td>may</td>\n",
       "      <td>220</td>\n",
       "      <td>1</td>\n",
       "      <td>339</td>\n",
       "      <td>4</td>\n",
       "      <td>failure</td>\n",
       "      <td>no</td>\n",
       "    </tr>\n",
       "    <tr>\n",
       "      <th>2</th>\n",
       "      <td>35</td>\n",
       "      <td>management</td>\n",
       "      <td>single</td>\n",
       "      <td>tertiary</td>\n",
       "      <td>no</td>\n",
       "      <td>1350</td>\n",
       "      <td>yes</td>\n",
       "      <td>no</td>\n",
       "      <td>cellular</td>\n",
       "      <td>16</td>\n",
       "      <td>apr</td>\n",
       "      <td>185</td>\n",
       "      <td>1</td>\n",
       "      <td>330</td>\n",
       "      <td>1</td>\n",
       "      <td>failure</td>\n",
       "      <td>no</td>\n",
       "    </tr>\n",
       "    <tr>\n",
       "      <th>3</th>\n",
       "      <td>30</td>\n",
       "      <td>management</td>\n",
       "      <td>married</td>\n",
       "      <td>tertiary</td>\n",
       "      <td>no</td>\n",
       "      <td>1476</td>\n",
       "      <td>yes</td>\n",
       "      <td>yes</td>\n",
       "      <td>unknown</td>\n",
       "      <td>3</td>\n",
       "      <td>jun</td>\n",
       "      <td>199</td>\n",
       "      <td>4</td>\n",
       "      <td>-1</td>\n",
       "      <td>0</td>\n",
       "      <td>unknown</td>\n",
       "      <td>no</td>\n",
       "    </tr>\n",
       "    <tr>\n",
       "      <th>4</th>\n",
       "      <td>59</td>\n",
       "      <td>blue-collar</td>\n",
       "      <td>married</td>\n",
       "      <td>secondary</td>\n",
       "      <td>no</td>\n",
       "      <td>0</td>\n",
       "      <td>yes</td>\n",
       "      <td>no</td>\n",
       "      <td>unknown</td>\n",
       "      <td>5</td>\n",
       "      <td>may</td>\n",
       "      <td>226</td>\n",
       "      <td>1</td>\n",
       "      <td>-1</td>\n",
       "      <td>0</td>\n",
       "      <td>unknown</td>\n",
       "      <td>no</td>\n",
       "    </tr>\n",
       "  </tbody>\n",
       "</table>\n",
       "</div>"
      ],
      "text/plain": [
       "   age          job  marital  education default  balance housing loan  \\\n",
       "0   30   unemployed  married    primary      no     1787      no   no   \n",
       "1   33     services  married  secondary      no     4789     yes  yes   \n",
       "2   35   management   single   tertiary      no     1350     yes   no   \n",
       "3   30   management  married   tertiary      no     1476     yes  yes   \n",
       "4   59  blue-collar  married  secondary      no        0     yes   no   \n",
       "\n",
       "    contact  day month  duration  campaign  pdays  previous poutcome   y  \n",
       "0  cellular   19   oct        79         1     -1         0  unknown  no  \n",
       "1  cellular   11   may       220         1    339         4  failure  no  \n",
       "2  cellular   16   apr       185         1    330         1  failure  no  \n",
       "3   unknown    3   jun       199         4     -1         0  unknown  no  \n",
       "4   unknown    5   may       226         1     -1         0  unknown  no  "
      ]
     },
     "execution_count": 3,
     "metadata": {},
     "output_type": "execute_result"
    }
   ],
   "source": [
    "data=pd.read_csv(file,sep=\";\")\n",
    "data.head()"
   ]
  },
  {
   "cell_type": "code",
   "execution_count": 4,
   "metadata": {},
   "outputs": [
    {
     "data": {
      "text/plain": [
       "(4521, 17)"
      ]
     },
     "execution_count": 4,
     "metadata": {},
     "output_type": "execute_result"
    }
   ],
   "source": [
    "data.shape"
   ]
  },
  {
   "cell_type": "code",
   "execution_count": 5,
   "metadata": {},
   "outputs": [
    {
     "data": {
      "text/plain": [
       "age           int64\n",
       "job          object\n",
       "marital      object\n",
       "education    object\n",
       "default      object\n",
       "balance       int64\n",
       "housing      object\n",
       "loan         object\n",
       "contact      object\n",
       "day           int64\n",
       "month        object\n",
       "duration      int64\n",
       "campaign      int64\n",
       "pdays         int64\n",
       "previous      int64\n",
       "poutcome     object\n",
       "y            object\n",
       "dtype: object"
      ]
     },
     "execution_count": 5,
     "metadata": {},
     "output_type": "execute_result"
    }
   ],
   "source": [
    "data.dtypes"
   ]
  },
  {
   "cell_type": "code",
   "execution_count": 6,
   "metadata": {},
   "outputs": [
    {
     "name": "stdout",
     "output_type": "stream",
     "text": [
      "<class 'pandas.core.frame.DataFrame'>\n",
      "RangeIndex: 4521 entries, 0 to 4520\n",
      "Data columns (total 17 columns):\n",
      "age          4521 non-null int64\n",
      "job          4521 non-null object\n",
      "marital      4521 non-null object\n",
      "education    4521 non-null object\n",
      "default      4521 non-null object\n",
      "balance      4521 non-null int64\n",
      "housing      4521 non-null object\n",
      "loan         4521 non-null object\n",
      "contact      4521 non-null object\n",
      "day          4521 non-null int64\n",
      "month        4521 non-null object\n",
      "duration     4521 non-null int64\n",
      "campaign     4521 non-null int64\n",
      "pdays        4521 non-null int64\n",
      "previous     4521 non-null int64\n",
      "poutcome     4521 non-null object\n",
      "y            4521 non-null object\n",
      "dtypes: int64(7), object(10)\n",
      "memory usage: 600.5+ KB\n"
     ]
    }
   ],
   "source": [
    "#Verificar nulos y tipo de datos en dataset\n",
    "data.info()"
   ]
  },
  {
   "cell_type": "code",
   "execution_count": 7,
   "metadata": {},
   "outputs": [
    {
     "data": {
      "text/plain": [
       "no     4000\n",
       "yes     521\n",
       "Name: y, dtype: int64"
      ]
     },
     "execution_count": 7,
     "metadata": {},
     "output_type": "execute_result"
    }
   ],
   "source": [
    "#Target: el empleado dejó o no la empresa (1 = Sí, 0 = No)\n",
    "data['y'].value_counts()"
   ]
  },
  {
   "cell_type": "code",
   "execution_count": 8,
   "metadata": {},
   "outputs": [
    {
     "data": {
      "image/png": "[encoded data removed]",
      "text/plain": [
       "<Figure size 432x288 with 1 Axes>"
      ]
     },
     "metadata": {},
     "output_type": "display_data"
    },
    {
     "name": "stdout",
     "output_type": "stream",
     "text": [
      "no     4000\n",
      "yes     521\n",
      "Name: y, dtype: int64\n"
     ]
    }
   ],
   "source": [
    "# Lista de colores\n",
    "colors = [\"#64FE2E\", \"#FA5858\"]\n",
    "labels=\"NO\", \"YES\"\n",
    "plt.suptitle('Distribucion de variable target')\n",
    "# Create a pie chart\n",
    "plt.pie(\n",
    "    # using data total)arrests\n",
    "    data['y'].value_counts(),\n",
    "    # with the labels being officer names\n",
    "    labels=labels, shadow=True,colors=colors,\n",
    "    # with one slide exploded out\n",
    "    explode=(0, 0.15), startangle=40,\n",
    "    # with the percent listed as a fraction\n",
    "    autopct='%1.1f%%',\n",
    "    )\n",
    "plt.axis('equal')\n",
    "# View the plot\n",
    "plt.tight_layout()\n",
    "plt.show()\n",
    "print(data['y'].value_counts())"
   ]
  },
  {
   "cell_type": "code",
   "execution_count": 9,
   "metadata": {},
   "outputs": [
    {
     "data": {
      "text/html": [
       "<div>\n",
       "<style scoped>\n",
       "    .dataframe tbody tr th:only-of-type {\n",
       "        vertical-align: middle;\n",
       "    }\n",
       "\n",
       "    .dataframe tbody tr th {\n",
       "        vertical-align: top;\n",
       "    }\n",
       "\n",
       "    .dataframe thead th {\n",
       "        text-align: right;\n",
       "    }\n",
       "</style>\n",
       "<table border=\"1\" class=\"dataframe\">\n",
       "  <thead>\n",
       "    <tr style=\"text-align: right;\">\n",
       "      <th></th>\n",
       "      <th>age</th>\n",
       "      <th>balance</th>\n",
       "      <th>day</th>\n",
       "      <th>duration</th>\n",
       "      <th>campaign</th>\n",
       "      <th>pdays</th>\n",
       "      <th>previous</th>\n",
       "    </tr>\n",
       "  </thead>\n",
       "  <tbody>\n",
       "    <tr>\n",
       "      <th>count</th>\n",
       "      <td>4521.000000</td>\n",
       "      <td>4521.000000</td>\n",
       "      <td>4521.000000</td>\n",
       "      <td>4521.000000</td>\n",
       "      <td>4521.000000</td>\n",
       "      <td>4521.000000</td>\n",
       "      <td>4521.000000</td>\n",
       "    </tr>\n",
       "    <tr>\n",
       "      <th>mean</th>\n",
       "      <td>41.170095</td>\n",
       "      <td>1422.657819</td>\n",
       "      <td>15.915284</td>\n",
       "      <td>263.961292</td>\n",
       "      <td>2.793630</td>\n",
       "      <td>39.766645</td>\n",
       "      <td>0.542579</td>\n",
       "    </tr>\n",
       "    <tr>\n",
       "      <th>std</th>\n",
       "      <td>10.576211</td>\n",
       "      <td>3009.638142</td>\n",
       "      <td>8.247667</td>\n",
       "      <td>259.856633</td>\n",
       "      <td>3.109807</td>\n",
       "      <td>100.121124</td>\n",
       "      <td>1.693562</td>\n",
       "    </tr>\n",
       "    <tr>\n",
       "      <th>min</th>\n",
       "      <td>19.000000</td>\n",
       "      <td>-3313.000000</td>\n",
       "      <td>1.000000</td>\n",
       "      <td>4.000000</td>\n",
       "      <td>1.000000</td>\n",
       "      <td>-1.000000</td>\n",
       "      <td>0.000000</td>\n",
       "    </tr>\n",
       "    <tr>\n",
       "      <th>25%</th>\n",
       "      <td>33.000000</td>\n",
       "      <td>69.000000</td>\n",
       "      <td>9.000000</td>\n",
       "      <td>104.000000</td>\n",
       "      <td>1.000000</td>\n",
       "      <td>-1.000000</td>\n",
       "      <td>0.000000</td>\n",
       "    </tr>\n",
       "    <tr>\n",
       "      <th>50%</th>\n",
       "      <td>39.000000</td>\n",
       "      <td>444.000000</td>\n",
       "      <td>16.000000</td>\n",
       "      <td>185.000000</td>\n",
       "      <td>2.000000</td>\n",
       "      <td>-1.000000</td>\n",
       "      <td>0.000000</td>\n",
       "    </tr>\n",
       "    <tr>\n",
       "      <th>75%</th>\n",
       "      <td>49.000000</td>\n",
       "      <td>1480.000000</td>\n",
       "      <td>21.000000</td>\n",
       "      <td>329.000000</td>\n",
       "      <td>3.000000</td>\n",
       "      <td>-1.000000</td>\n",
       "      <td>0.000000</td>\n",
       "    </tr>\n",
       "    <tr>\n",
       "      <th>max</th>\n",
       "      <td>87.000000</td>\n",
       "      <td>71188.000000</td>\n",
       "      <td>31.000000</td>\n",
       "      <td>3025.000000</td>\n",
       "      <td>50.000000</td>\n",
       "      <td>871.000000</td>\n",
       "      <td>25.000000</td>\n",
       "    </tr>\n",
       "  </tbody>\n",
       "</table>\n",
       "</div>"
      ],
      "text/plain": [
       "               age       balance          day     duration     campaign  \\\n",
       "count  4521.000000   4521.000000  4521.000000  4521.000000  4521.000000   \n",
       "mean     41.170095   1422.657819    15.915284   263.961292     2.793630   \n",
       "std      10.576211   3009.638142     8.247667   259.856633     3.109807   \n",
       "min      19.000000  -3313.000000     1.000000     4.000000     1.000000   \n",
       "25%      33.000000     69.000000     9.000000   104.000000     1.000000   \n",
       "50%      39.000000    444.000000    16.000000   185.000000     2.000000   \n",
       "75%      49.000000   1480.000000    21.000000   329.000000     3.000000   \n",
       "max      87.000000  71188.000000    31.000000  3025.000000    50.000000   \n",
       "\n",
       "             pdays     previous  \n",
       "count  4521.000000  4521.000000  \n",
       "mean     39.766645     0.542579  \n",
       "std     100.121124     1.693562  \n",
       "min      -1.000000     0.000000  \n",
       "25%      -1.000000     0.000000  \n",
       "50%      -1.000000     0.000000  \n",
       "75%      -1.000000     0.000000  \n",
       "max     871.000000    25.000000  "
      ]
     },
     "execution_count": 9,
     "metadata": {},
     "output_type": "execute_result"
    }
   ],
   "source": [
    "data.describe()"
   ]
  },
  {
   "cell_type": "code",
   "execution_count": 10,
   "metadata": {},
   "outputs": [
    {
     "data": {
      "text/plain": [
       "['age',\n",
       " 'job',\n",
       " 'marital',\n",
       " 'education',\n",
       " 'default',\n",
       " 'balance',\n",
       " 'housing',\n",
       " 'loan',\n",
       " 'contact',\n",
       " 'day',\n",
       " 'month',\n",
       " 'duration',\n",
       " 'campaign',\n",
       " 'pdays',\n",
       " 'previous',\n",
       " 'poutcome',\n",
       " 'y']"
      ]
     },
     "execution_count": 10,
     "metadata": {},
     "output_type": "execute_result"
    }
   ],
   "source": [
    "list(data)"
   ]
  },
  {
   "cell_type": "code",
   "execution_count": 11,
   "metadata": {},
   "outputs": [],
   "source": [
    "\n",
    "features_cat=['job','marital','education','default',\n",
    " 'housing','loan','contact','day','month','poutcome']\n",
    "features_num=['age','balance','duration','campaign','pdays','previous']\n"
   ]
  },
  {
   "cell_type": "markdown",
   "metadata": {},
   "source": [
    "### Analisis univariado"
   ]
  },
  {
   "cell_type": "code",
   "execution_count": 12,
   "metadata": {},
   "outputs": [
    {
     "data": {
      "image/png": "[encoded data removed]",
      "text/plain": [
       "<Figure size 1080x1440 with 10 Axes>"
      ]
     },
     "metadata": {
      "needs_background": "light"
     },
     "output_type": "display_data"
    }
   ],
   "source": [
    "fig=plt.subplots(figsize=(15,20))\n",
    "#enumerate: (0, ''number_project'), (1, 'time_spend_company'), etc\n",
    "for i, j in enumerate(features_cat):\n",
    "    plt.subplot(5, 2, i+1)#fila, columna, num\n",
    "    plt.subplots_adjust(hspace = 1)#espacio entre plots\n",
    "    sns.set_palette(\"Accent\")\n",
    "    sns.countplot(x=j,data = data)\n",
    "    plt.xticks(rotation=90)#ubicacion de labels(rotacion=90%)\n",
    "    plt.title(\"N° de clientes por variable '\"+j+\"'\")"
   ]
  },
  {
   "cell_type": "markdown",
   "metadata": {},
   "source": [
    "### Analisis bivariado"
   ]
  },
  {
   "cell_type": "code",
   "execution_count": 13,
   "metadata": {},
   "outputs": [
    {
     "data": {
      "image/png": "[encoded data removed]",
      "text/plain": [
       "<Figure size 1080x1440 with 10 Axes>"
      ]
     },
     "metadata": {
      "needs_background": "light"
     },
     "output_type": "display_data"
    }
   ],
   "source": [
    "fig=plt.subplots(figsize=(15,20))\n",
    "for i, j in enumerate(features_cat):\n",
    "    plt.subplot(5, 2, i+1)\n",
    "    plt.subplots_adjust(hspace = 1)\n",
    "    sns.set_palette(\"Dark2\")\n",
    "    sns.countplot(x=j,data = data, hue='y')\n",
    "    plt.xticks(rotation=90)\n",
    "    plt.title(\"N° de clientes\")"
   ]
  },
  {
   "cell_type": "code",
   "execution_count": 14,
   "metadata": {
    "collapsed": true
   },
   "outputs": [
    {
     "data": {
      "image/png": "[encoded data removed]",
      "text/plain": [
       "<Figure size 1080x1440 with 10 Axes>"
      ]
     },
     "metadata": {
      "needs_background": "light"
     },
     "output_type": "display_data"
    }
   ],
   "source": [
    "fig=plt.subplots(figsize=(15,20))\n",
    "#enumerate: (0, ''number_project'), (1, 'time_spend_company'), etc\n",
    "for i, j in enumerate(features_cat):\n",
    "    plt.subplot(5, 2, i+1)#fila, columna, num\n",
    "    plt.subplots_adjust(hspace = 1)#espacio entre plots\n",
    "    sns.set_palette(\"Accent\")\n",
    "    sns.countplot(x=j,data = data[data['y']=='yes'])\n",
    "    plt.xticks(rotation=90)#ubicacion de labels(rotacion=90%)\n",
    "    plt.title(\"N° de clientes por variable '\"+j+\"'\")\n"
   ]
  },
  {
   "cell_type": "code",
   "execution_count": 15,
   "metadata": {
    "scrolled": true
   },
   "outputs": [
    {
     "data": {
      "image/png": "[encoded data removed]",
      "text/plain": [
       "<Figure size 1080x1440 with 6 Axes>"
      ]
     },
     "metadata": {
      "needs_background": "light"
     },
     "output_type": "display_data"
    }
   ],
   "source": [
    "fig=plt.subplots(figsize=(15,20))\n",
    "#enumerate: (0, ''number_project'), (1, 'time_spend_company'), etc\n",
    "for i, j in enumerate(features_num):\n",
    "    plt.subplot(3, 2, i+1)#fila, columna, num\n",
    "    plt.subplots_adjust(hspace = 1)#espacio entre plots\n",
    "    prog = 'sns.distplot(data[data[\"y\"]==\"yes\"].'+j+'.dropna(),kde_kws={\"color\": \"r\", \"lw\": 2,\"label\": \"yes\"}, hist_kws={\"color\": \"r\"})'\n",
    "    prog1 = 'sns.distplot(data[data[\"y\"]==\"no\"].'+j+'.dropna(),kde_kws={\"color\": \"b\", \"lw\": 2,\"label\": \"no\"}, hist_kws={\"color\": \"b\"})'\n",
    "    exec(prog) \n",
    "    exec(prog1) \n",
    "    plt.xticks(rotation=90)#ubicacion de labels(rotacion=90%)\n",
    "    plt.title(\"N° de clientes por variable '\"+j+\"'\")"
   ]
  },
  {
   "cell_type": "code",
   "execution_count": 16,
   "metadata": {},
   "outputs": [],
   "source": [
    "# Hacer una copia para iniciar con los cambios\n",
    "bank_data = data.copy()"
   ]
  },
  {
   "cell_type": "code",
   "execution_count": 17,
   "metadata": {},
   "outputs": [
    {
     "name": "stdout",
     "output_type": "stream",
     "text": [
      "Clientes que no han sido contactados antes: 3705\n",
      "Valor maximo de pdays    : 871\n"
     ]
    }
   ],
   "source": [
    "# pdays: number of days that passed by after the client was last contacted from a previous campaign\n",
    "\n",
    "\n",
    "print(\"Clientes que no han sido contactados antes:\", len(bank_data[bank_data.pdays==-1]))\n",
    "print(\"Valor maximo de pdays    :\", bank_data['pdays'].max())"
   ]
  },
  {
   "cell_type": "code",
   "execution_count": 18,
   "metadata": {},
   "outputs": [
    {
     "data": {
      "image/png": "[encoded data removed]",
      "text/plain": [
       "<Figure size 432x288 with 1 Axes>"
      ]
     },
     "metadata": {
      "needs_background": "light"
     },
     "output_type": "display_data"
    },
    {
     "name": "stdout",
     "output_type": "stream",
     "text": [
      "Clientes que NO han sido contactados antes: 3705\n",
      "Clientes que SI han sido contactados antes: 816\n"
     ]
    }
   ],
   "source": [
    "#categorizar variable\n",
    "#Dataframe.loc[condicion,columna_especifica]=setear un valor\n",
    "\n",
    "#pdays-> ¿Se ha contactado previamente al cliente desde la ultima campaña?\n",
    "#no= no contactado , yes = si se contacto previamente\n",
    "\n",
    "bank_data.loc[bank_data['pdays'] == -1, 'pdays'] = 0\n",
    "bank_data.loc[bank_data['pdays'] > 0, 'pdays'] = 'yes'\n",
    "bank_data['pdays'] =bank_data['pdays'].replace([0] , 'no')\n",
    "\n",
    "bank_data['pdays_cat'] =bank_data['pdays']\n",
    "bank_data.drop('pdays', axis=1, inplace=True)\n",
    "\n",
    "#plot\n",
    "sns.countplot(x='pdays_cat',data=bank_data,palette='hls')\n",
    "plt.title('Variable pdays_cat')\n",
    "plt.xlabel('Contacto con cliente')\n",
    "plt.ylabel('Frecuencia')\n",
    "plt.show()\n",
    "\n",
    "print(\"Clientes que NO han sido contactados antes:\", len(bank_data[bank_data.pdays_cat=='no']))\n",
    "print(\"Clientes que SI han sido contactados antes:\", len(bank_data[bank_data.pdays_cat=='yes']))"
   ]
  },
  {
   "cell_type": "code",
   "execution_count": 19,
   "metadata": {},
   "outputs": [
    {
     "data": {
      "text/plain": [
       "Text(0.5,1,'Cantidad de clientes contactados (si/no) en relacion a target')"
      ]
     },
     "execution_count": 19,
     "metadata": {},
     "output_type": "execute_result"
    },
    {
     "data": {
      "image/png": "[encoded data removed]",
      "text/plain": [
       "<Figure size 432x288 with 1 Axes>"
      ]
     },
     "metadata": {
      "needs_background": "light"
     },
     "output_type": "display_data"
    }
   ],
   "source": [
    "sns.set_palette(\"hls\")\n",
    "sns.countplot(x='pdays_cat',data = bank_data, hue='y')\n",
    "plt.xticks(rotation=90)\n",
    "plt.title(\"Cantidad de clientes contactados (si/no) en relacion a target\")"
   ]
  },
  {
   "cell_type": "code",
   "execution_count": 20,
   "metadata": {},
   "outputs": [
    {
     "data": {
      "text/plain": [
       "Text(0.5,1,'Variable pdays_cat')"
      ]
     },
     "execution_count": 20,
     "metadata": {},
     "output_type": "execute_result"
    },
    {
     "data": {
      "image/png": "[encoded data removed]",
      "text/plain": [
       "<Figure size 432x288 with 1 Axes>"
      ]
     },
     "metadata": {
      "needs_background": "light"
     },
     "output_type": "display_data"
    }
   ],
   "source": [
    "# Gráfico de barras % de variable pdays_cat en relacion a target\n",
    "plot = pd.crosstab(index=bank_data['pdays_cat'],\n",
    "            columns=bank_data['y']).apply(lambda r: r/r.sum() *100,\n",
    "                                              axis=1).plot(kind='bar'),\n",
    "plt.title('Variable pdays_cat')"
   ]
  },
  {
   "cell_type": "code",
   "execution_count": 21,
   "metadata": {},
   "outputs": [
    {
     "data": {
      "text/plain": [
       "unknown    3902\n",
       "failure     490\n",
       "success     129\n",
       "Name: poutcome, dtype: int64"
      ]
     },
     "execution_count": 21,
     "metadata": {},
     "output_type": "execute_result"
    }
   ],
   "source": [
    "#p_outcome\n",
    "\n",
    "# Combine 'unknown' and 'other' as 'other' isn't really match with either 'success' or 'failure'\n",
    "bank_data['poutcome'] = bank_data['poutcome'].replace(['other'] , 'unknown')\n",
    "bank_data.poutcome.value_counts()"
   ]
  },
  {
   "cell_type": "code",
   "execution_count": 22,
   "metadata": {},
   "outputs": [],
   "source": [
    "#day - month \n",
    "# day  : last contact day of the month\n",
    "# month: last contact month of year\n",
    "# Drop 'month' and 'day' as they don't have any intrinsic meaning\n",
    "\n",
    "bank_data.drop('month', axis=1, inplace=True)\n",
    "bank_data.drop('day', axis=1, inplace=True)"
   ]
  },
  {
   "cell_type": "code",
   "execution_count": 23,
   "metadata": {},
   "outputs": [
    {
     "data": {
      "text/plain": [
       "(4521, 15)"
      ]
     },
     "execution_count": 23,
     "metadata": {},
     "output_type": "execute_result"
    }
   ],
   "source": [
    "bank_data.shape"
   ]
  },
  {
   "cell_type": "code",
   "execution_count": 24,
   "metadata": {},
   "outputs": [
    {
     "data": {
      "text/html": [
       "<div>\n",
       "<style scoped>\n",
       "    .dataframe tbody tr th:only-of-type {\n",
       "        vertical-align: middle;\n",
       "    }\n",
       "\n",
       "    .dataframe tbody tr th {\n",
       "        vertical-align: top;\n",
       "    }\n",
       "\n",
       "    .dataframe thead th {\n",
       "        text-align: right;\n",
       "    }\n",
       "</style>\n",
       "<table border=\"1\" class=\"dataframe\">\n",
       "  <thead>\n",
       "    <tr style=\"text-align: right;\">\n",
       "      <th></th>\n",
       "      <th>age</th>\n",
       "      <th>job</th>\n",
       "      <th>marital</th>\n",
       "      <th>education</th>\n",
       "      <th>default</th>\n",
       "      <th>balance</th>\n",
       "      <th>housing</th>\n",
       "      <th>loan</th>\n",
       "      <th>contact</th>\n",
       "      <th>duration</th>\n",
       "      <th>campaign</th>\n",
       "      <th>previous</th>\n",
       "      <th>poutcome</th>\n",
       "      <th>y</th>\n",
       "      <th>pdays_cat</th>\n",
       "    </tr>\n",
       "  </thead>\n",
       "  <tbody>\n",
       "    <tr>\n",
       "      <th>0</th>\n",
       "      <td>30</td>\n",
       "      <td>unemployed</td>\n",
       "      <td>married</td>\n",
       "      <td>primary</td>\n",
       "      <td>no</td>\n",
       "      <td>1787</td>\n",
       "      <td>no</td>\n",
       "      <td>no</td>\n",
       "      <td>cellular</td>\n",
       "      <td>79</td>\n",
       "      <td>1</td>\n",
       "      <td>0</td>\n",
       "      <td>unknown</td>\n",
       "      <td>no</td>\n",
       "      <td>no</td>\n",
       "    </tr>\n",
       "    <tr>\n",
       "      <th>1</th>\n",
       "      <td>33</td>\n",
       "      <td>services</td>\n",
       "      <td>married</td>\n",
       "      <td>secondary</td>\n",
       "      <td>no</td>\n",
       "      <td>4789</td>\n",
       "      <td>yes</td>\n",
       "      <td>yes</td>\n",
       "      <td>cellular</td>\n",
       "      <td>220</td>\n",
       "      <td>1</td>\n",
       "      <td>4</td>\n",
       "      <td>failure</td>\n",
       "      <td>no</td>\n",
       "      <td>yes</td>\n",
       "    </tr>\n",
       "    <tr>\n",
       "      <th>2</th>\n",
       "      <td>35</td>\n",
       "      <td>management</td>\n",
       "      <td>single</td>\n",
       "      <td>tertiary</td>\n",
       "      <td>no</td>\n",
       "      <td>1350</td>\n",
       "      <td>yes</td>\n",
       "      <td>no</td>\n",
       "      <td>cellular</td>\n",
       "      <td>185</td>\n",
       "      <td>1</td>\n",
       "      <td>1</td>\n",
       "      <td>failure</td>\n",
       "      <td>no</td>\n",
       "      <td>yes</td>\n",
       "    </tr>\n",
       "    <tr>\n",
       "      <th>3</th>\n",
       "      <td>30</td>\n",
       "      <td>management</td>\n",
       "      <td>married</td>\n",
       "      <td>tertiary</td>\n",
       "      <td>no</td>\n",
       "      <td>1476</td>\n",
       "      <td>yes</td>\n",
       "      <td>yes</td>\n",
       "      <td>unknown</td>\n",
       "      <td>199</td>\n",
       "      <td>4</td>\n",
       "      <td>0</td>\n",
       "      <td>unknown</td>\n",
       "      <td>no</td>\n",
       "      <td>no</td>\n",
       "    </tr>\n",
       "    <tr>\n",
       "      <th>4</th>\n",
       "      <td>59</td>\n",
       "      <td>blue-collar</td>\n",
       "      <td>married</td>\n",
       "      <td>secondary</td>\n",
       "      <td>no</td>\n",
       "      <td>0</td>\n",
       "      <td>yes</td>\n",
       "      <td>no</td>\n",
       "      <td>unknown</td>\n",
       "      <td>226</td>\n",
       "      <td>1</td>\n",
       "      <td>0</td>\n",
       "      <td>unknown</td>\n",
       "      <td>no</td>\n",
       "      <td>no</td>\n",
       "    </tr>\n",
       "  </tbody>\n",
       "</table>\n",
       "</div>"
      ],
      "text/plain": [
       "   age          job  marital  education default  balance housing loan  \\\n",
       "0   30   unemployed  married    primary      no     1787      no   no   \n",
       "1   33     services  married  secondary      no     4789     yes  yes   \n",
       "2   35   management   single   tertiary      no     1350     yes   no   \n",
       "3   30   management  married   tertiary      no     1476     yes  yes   \n",
       "4   59  blue-collar  married  secondary      no        0     yes   no   \n",
       "\n",
       "    contact  duration  campaign  previous poutcome   y pdays_cat  \n",
       "0  cellular        79         1         0  unknown  no        no  \n",
       "1  cellular       220         1         4  failure  no       yes  \n",
       "2  cellular       185         1         1  failure  no       yes  \n",
       "3   unknown       199         4         0  unknown  no        no  \n",
       "4   unknown       226         1         0  unknown  no        no  "
      ]
     },
     "execution_count": 24,
     "metadata": {},
     "output_type": "execute_result"
    }
   ],
   "source": [
    "bank_data.head()"
   ]
  },
  {
   "cell_type": "markdown",
   "metadata": {},
   "source": [
    "### Pre-procesamiento"
   ]
  },
  {
   "cell_type": "code",
   "execution_count": 25,
   "metadata": {},
   "outputs": [],
   "source": [
    "#Tipos de variables:\n",
    "#Target\n",
    "target_col=['y']\n",
    "#Numericas\n",
    "features_num=['age','balance','duration','campaign','previous']\n",
    "#Categoricas binarias\n",
    "cat_bin_cols=['default','housing','loan','pdays_cat']\n",
    "#Categoricas multiples\n",
    "features_cat=['job','marital','education','contact','poutcome']"
   ]
  },
  {
   "cell_type": "code",
   "execution_count": 26,
   "metadata": {},
   "outputs": [
    {
     "data": {
      "text/html": [
       "<div>\n",
       "<style scoped>\n",
       "    .dataframe tbody tr th:only-of-type {\n",
       "        vertical-align: middle;\n",
       "    }\n",
       "\n",
       "    .dataframe tbody tr th {\n",
       "        vertical-align: top;\n",
       "    }\n",
       "\n",
       "    .dataframe thead th {\n",
       "        text-align: right;\n",
       "    }\n",
       "</style>\n",
       "<table border=\"1\" class=\"dataframe\">\n",
       "  <thead>\n",
       "    <tr style=\"text-align: right;\">\n",
       "      <th></th>\n",
       "      <th>default</th>\n",
       "      <th>housing</th>\n",
       "      <th>loan</th>\n",
       "      <th>pdays_cat</th>\n",
       "      <th>y</th>\n",
       "    </tr>\n",
       "  </thead>\n",
       "  <tbody>\n",
       "    <tr>\n",
       "      <th>0</th>\n",
       "      <td>0</td>\n",
       "      <td>0</td>\n",
       "      <td>0</td>\n",
       "      <td>0</td>\n",
       "      <td>0</td>\n",
       "    </tr>\n",
       "    <tr>\n",
       "      <th>1</th>\n",
       "      <td>0</td>\n",
       "      <td>1</td>\n",
       "      <td>1</td>\n",
       "      <td>1</td>\n",
       "      <td>0</td>\n",
       "    </tr>\n",
       "    <tr>\n",
       "      <th>2</th>\n",
       "      <td>0</td>\n",
       "      <td>1</td>\n",
       "      <td>0</td>\n",
       "      <td>1</td>\n",
       "      <td>0</td>\n",
       "    </tr>\n",
       "    <tr>\n",
       "      <th>3</th>\n",
       "      <td>0</td>\n",
       "      <td>1</td>\n",
       "      <td>1</td>\n",
       "      <td>0</td>\n",
       "      <td>0</td>\n",
       "    </tr>\n",
       "    <tr>\n",
       "      <th>4</th>\n",
       "      <td>0</td>\n",
       "      <td>1</td>\n",
       "      <td>0</td>\n",
       "      <td>0</td>\n",
       "      <td>0</td>\n",
       "    </tr>\n",
       "  </tbody>\n",
       "</table>\n",
       "</div>"
      ],
      "text/plain": [
       "   default  housing  loan  pdays_cat  y\n",
       "0        0        0     0          0  0\n",
       "1        0        1     1          1  0\n",
       "2        0        1     0          1  0\n",
       "3        0        1     1          0  0\n",
       "4        0        1     0          0  0"
      ]
     },
     "execution_count": 26,
     "metadata": {},
     "output_type": "execute_result"
    }
   ],
   "source": [
    "# Importar LabelEncoder\n",
    "from sklearn import preprocessing\n",
    "\n",
    "#crear labelEncoder\n",
    "le = preprocessing.LabelEncoder()\n",
    "\n",
    "# Convertir variables categoricas a numericas\n",
    "bank_data['default']=le.fit_transform(bank_data['default'])\n",
    "bank_data['housing']=le.fit_transform(bank_data['housing'])\n",
    "bank_data['loan']=le.fit_transform(bank_data['loan'])\n",
    "bank_data['pdays_cat']=le.fit_transform(bank_data['pdays_cat'])\n",
    "\n",
    "#target\n",
    "bank_data['y'] = bank_data['y'].replace(['no'] , '0')\n",
    "bank_data['y'] = bank_data['y'].replace(['yes'] , '1')\n",
    "\n",
    "bank_data[cat_bin_cols+target_col].head()"
   ]
  },
  {
   "cell_type": "markdown",
   "metadata": {},
   "source": [
    "### **Estandarizacion**"
   ]
  },
  {
   "cell_type": "code",
   "execution_count": 27,
   "metadata": {},
   "outputs": [],
   "source": [
    "#Importar StandardScaler\n",
    "from sklearn.preprocessing import StandardScaler"
   ]
  },
  {
   "cell_type": "markdown",
   "metadata": {},
   "source": [
    "<center>  <img src=\"https://cdn-images-1.medium.com/max/1600/0*PXGPVYIxyI_IEHP7.\" width=\"300\"> <center>  \n",
    "<i>\"Formula de estandarización\""
   ]
  },
  {
   "cell_type": "code",
   "execution_count": 28,
   "metadata": {},
   "outputs": [
    {
     "name": "stderr",
     "output_type": "stream",
     "text": [
      "C:\\Users\\KEVIN\\Anaconda3\\lib\\site-packages\\sklearn\\preprocessing\\data.py:625: DataConversionWarning: Data with input dtype int64 were all converted to float64 by StandardScaler.\n",
      "  return self.partial_fit(X, y)\n",
      "C:\\Users\\KEVIN\\Anaconda3\\lib\\site-packages\\sklearn\\base.py:462: DataConversionWarning: Data with input dtype int64 were all converted to float64 by StandardScaler.\n",
      "  return self.fit(X, **fit_params).transform(X)\n"
     ]
    }
   ],
   "source": [
    "scaler = StandardScaler()\n",
    "Standarized_data=scaler.fit_transform(bank_data[features_num])\n",
    "Standarized_data=pd.DataFrame(Standarized_data,columns=features_num)"
   ]
  },
  {
   "cell_type": "code",
   "execution_count": 29,
   "metadata": {},
   "outputs": [
    {
     "data": {
      "text/html": [
       "<div>\n",
       "<style scoped>\n",
       "    .dataframe tbody tr th:only-of-type {\n",
       "        vertical-align: middle;\n",
       "    }\n",
       "\n",
       "    .dataframe tbody tr th {\n",
       "        vertical-align: top;\n",
       "    }\n",
       "\n",
       "    .dataframe thead th {\n",
       "        text-align: right;\n",
       "    }\n",
       "</style>\n",
       "<table border=\"1\" class=\"dataframe\">\n",
       "  <thead>\n",
       "    <tr style=\"text-align: right;\">\n",
       "      <th></th>\n",
       "      <th>age</th>\n",
       "      <th>balance</th>\n",
       "      <th>duration</th>\n",
       "      <th>campaign</th>\n",
       "      <th>previous</th>\n",
       "    </tr>\n",
       "  </thead>\n",
       "  <tbody>\n",
       "    <tr>\n",
       "      <th>0</th>\n",
       "      <td>-1.056270</td>\n",
       "      <td>0.121072</td>\n",
       "      <td>-0.711861</td>\n",
       "      <td>-0.576829</td>\n",
       "      <td>-0.320413</td>\n",
       "    </tr>\n",
       "    <tr>\n",
       "      <th>1</th>\n",
       "      <td>-0.772583</td>\n",
       "      <td>1.118644</td>\n",
       "      <td>-0.169194</td>\n",
       "      <td>-0.576829</td>\n",
       "      <td>2.041734</td>\n",
       "    </tr>\n",
       "    <tr>\n",
       "      <th>2</th>\n",
       "      <td>-0.583458</td>\n",
       "      <td>-0.024144</td>\n",
       "      <td>-0.303898</td>\n",
       "      <td>-0.576829</td>\n",
       "      <td>0.270124</td>\n",
       "    </tr>\n",
       "    <tr>\n",
       "      <th>3</th>\n",
       "      <td>-1.056270</td>\n",
       "      <td>0.017726</td>\n",
       "      <td>-0.250017</td>\n",
       "      <td>0.387967</td>\n",
       "      <td>-0.320413</td>\n",
       "    </tr>\n",
       "    <tr>\n",
       "      <th>4</th>\n",
       "      <td>1.686036</td>\n",
       "      <td>-0.472753</td>\n",
       "      <td>-0.146102</td>\n",
       "      <td>-0.576829</td>\n",
       "      <td>-0.320413</td>\n",
       "    </tr>\n",
       "  </tbody>\n",
       "</table>\n",
       "</div>"
      ],
      "text/plain": [
       "        age   balance  duration  campaign  previous\n",
       "0 -1.056270  0.121072 -0.711861 -0.576829 -0.320413\n",
       "1 -0.772583  1.118644 -0.169194 -0.576829  2.041734\n",
       "2 -0.583458 -0.024144 -0.303898 -0.576829  0.270124\n",
       "3 -1.056270  0.017726 -0.250017  0.387967 -0.320413\n",
       "4  1.686036 -0.472753 -0.146102 -0.576829 -0.320413"
      ]
     },
     "execution_count": 29,
     "metadata": {},
     "output_type": "execute_result"
    }
   ],
   "source": [
    "Standarized_data.head()"
   ]
  },
  {
   "cell_type": "code",
   "execution_count": 30,
   "metadata": {},
   "outputs": [
    {
     "data": {
      "text/html": [
       "<div>\n",
       "<style scoped>\n",
       "    .dataframe tbody tr th:only-of-type {\n",
       "        vertical-align: middle;\n",
       "    }\n",
       "\n",
       "    .dataframe tbody tr th {\n",
       "        vertical-align: top;\n",
       "    }\n",
       "\n",
       "    .dataframe thead th {\n",
       "        text-align: right;\n",
       "    }\n",
       "</style>\n",
       "<table border=\"1\" class=\"dataframe\">\n",
       "  <thead>\n",
       "    <tr style=\"text-align: right;\">\n",
       "      <th></th>\n",
       "      <th>job</th>\n",
       "      <th>marital</th>\n",
       "      <th>education</th>\n",
       "      <th>default</th>\n",
       "      <th>housing</th>\n",
       "      <th>loan</th>\n",
       "      <th>contact</th>\n",
       "      <th>poutcome</th>\n",
       "      <th>y</th>\n",
       "      <th>pdays_cat</th>\n",
       "      <th>age</th>\n",
       "      <th>balance</th>\n",
       "      <th>duration</th>\n",
       "      <th>campaign</th>\n",
       "      <th>previous</th>\n",
       "    </tr>\n",
       "  </thead>\n",
       "  <tbody>\n",
       "    <tr>\n",
       "      <th>0</th>\n",
       "      <td>unemployed</td>\n",
       "      <td>married</td>\n",
       "      <td>primary</td>\n",
       "      <td>0</td>\n",
       "      <td>0</td>\n",
       "      <td>0</td>\n",
       "      <td>cellular</td>\n",
       "      <td>unknown</td>\n",
       "      <td>0</td>\n",
       "      <td>0</td>\n",
       "      <td>-1.056270</td>\n",
       "      <td>0.121072</td>\n",
       "      <td>-0.711861</td>\n",
       "      <td>-0.576829</td>\n",
       "      <td>-0.320413</td>\n",
       "    </tr>\n",
       "    <tr>\n",
       "      <th>1</th>\n",
       "      <td>services</td>\n",
       "      <td>married</td>\n",
       "      <td>secondary</td>\n",
       "      <td>0</td>\n",
       "      <td>1</td>\n",
       "      <td>1</td>\n",
       "      <td>cellular</td>\n",
       "      <td>failure</td>\n",
       "      <td>0</td>\n",
       "      <td>1</td>\n",
       "      <td>-0.772583</td>\n",
       "      <td>1.118644</td>\n",
       "      <td>-0.169194</td>\n",
       "      <td>-0.576829</td>\n",
       "      <td>2.041734</td>\n",
       "    </tr>\n",
       "    <tr>\n",
       "      <th>2</th>\n",
       "      <td>management</td>\n",
       "      <td>single</td>\n",
       "      <td>tertiary</td>\n",
       "      <td>0</td>\n",
       "      <td>1</td>\n",
       "      <td>0</td>\n",
       "      <td>cellular</td>\n",
       "      <td>failure</td>\n",
       "      <td>0</td>\n",
       "      <td>1</td>\n",
       "      <td>-0.583458</td>\n",
       "      <td>-0.024144</td>\n",
       "      <td>-0.303898</td>\n",
       "      <td>-0.576829</td>\n",
       "      <td>0.270124</td>\n",
       "    </tr>\n",
       "    <tr>\n",
       "      <th>3</th>\n",
       "      <td>management</td>\n",
       "      <td>married</td>\n",
       "      <td>tertiary</td>\n",
       "      <td>0</td>\n",
       "      <td>1</td>\n",
       "      <td>1</td>\n",
       "      <td>unknown</td>\n",
       "      <td>unknown</td>\n",
       "      <td>0</td>\n",
       "      <td>0</td>\n",
       "      <td>-1.056270</td>\n",
       "      <td>0.017726</td>\n",
       "      <td>-0.250017</td>\n",
       "      <td>0.387967</td>\n",
       "      <td>-0.320413</td>\n",
       "    </tr>\n",
       "    <tr>\n",
       "      <th>4</th>\n",
       "      <td>blue-collar</td>\n",
       "      <td>married</td>\n",
       "      <td>secondary</td>\n",
       "      <td>0</td>\n",
       "      <td>1</td>\n",
       "      <td>0</td>\n",
       "      <td>unknown</td>\n",
       "      <td>unknown</td>\n",
       "      <td>0</td>\n",
       "      <td>0</td>\n",
       "      <td>1.686036</td>\n",
       "      <td>-0.472753</td>\n",
       "      <td>-0.146102</td>\n",
       "      <td>-0.576829</td>\n",
       "      <td>-0.320413</td>\n",
       "    </tr>\n",
       "  </tbody>\n",
       "</table>\n",
       "</div>"
      ],
      "text/plain": [
       "           job  marital  education  default  housing  loan   contact poutcome  \\\n",
       "0   unemployed  married    primary        0        0     0  cellular  unknown   \n",
       "1     services  married  secondary        0        1     1  cellular  failure   \n",
       "2   management   single   tertiary        0        1     0  cellular  failure   \n",
       "3   management  married   tertiary        0        1     1   unknown  unknown   \n",
       "4  blue-collar  married  secondary        0        1     0   unknown  unknown   \n",
       "\n",
       "   y  pdays_cat       age   balance  duration  campaign  previous  \n",
       "0  0          0 -1.056270  0.121072 -0.711861 -0.576829 -0.320413  \n",
       "1  0          1 -0.772583  1.118644 -0.169194 -0.576829  2.041734  \n",
       "2  0          1 -0.583458 -0.024144 -0.303898 -0.576829  0.270124  \n",
       "3  0          0 -1.056270  0.017726 -0.250017  0.387967 -0.320413  \n",
       "4  0          0  1.686036 -0.472753 -0.146102 -0.576829 -0.320413  "
      ]
     },
     "execution_count": 30,
     "metadata": {},
     "output_type": "execute_result"
    }
   ],
   "source": [
    "#colocar variables estandarizadas en data\n",
    "bank_data = bank_data.drop(columns = features_num,axis = 1)\n",
    "bank_data= bank_data.merge(Standarized_data,left_index=True,right_index=True,how = \"left\")\n",
    "bank_data.head()"
   ]
  },
  {
   "cell_type": "code",
   "execution_count": 31,
   "metadata": {},
   "outputs": [
    {
     "data": {
      "text/plain": [
       "(4521, 15)"
      ]
     },
     "execution_count": 31,
     "metadata": {},
     "output_type": "execute_result"
    }
   ],
   "source": [
    "bank_data.shape"
   ]
  },
  {
   "cell_type": "markdown",
   "metadata": {},
   "source": [
    "### **Convert to Dummies (categoricas)**"
   ]
  },
  {
   "cell_type": "code",
   "execution_count": 32,
   "metadata": {},
   "outputs": [
    {
     "data": {
      "text/html": [
       "<div>\n",
       "<style scoped>\n",
       "    .dataframe tbody tr th:only-of-type {\n",
       "        vertical-align: middle;\n",
       "    }\n",
       "\n",
       "    .dataframe tbody tr th {\n",
       "        vertical-align: top;\n",
       "    }\n",
       "\n",
       "    .dataframe thead th {\n",
       "        text-align: right;\n",
       "    }\n",
       "</style>\n",
       "<table border=\"1\" class=\"dataframe\">\n",
       "  <thead>\n",
       "    <tr style=\"text-align: right;\">\n",
       "      <th></th>\n",
       "      <th>default</th>\n",
       "      <th>housing</th>\n",
       "      <th>loan</th>\n",
       "      <th>y</th>\n",
       "      <th>pdays_cat</th>\n",
       "      <th>age</th>\n",
       "      <th>balance</th>\n",
       "      <th>duration</th>\n",
       "      <th>campaign</th>\n",
       "      <th>previous</th>\n",
       "      <th>...</th>\n",
       "      <th>education_primary</th>\n",
       "      <th>education_secondary</th>\n",
       "      <th>education_tertiary</th>\n",
       "      <th>education_unknown</th>\n",
       "      <th>contact_cellular</th>\n",
       "      <th>contact_telephone</th>\n",
       "      <th>contact_unknown</th>\n",
       "      <th>poutcome_failure</th>\n",
       "      <th>poutcome_success</th>\n",
       "      <th>poutcome_unknown</th>\n",
       "    </tr>\n",
       "  </thead>\n",
       "  <tbody>\n",
       "    <tr>\n",
       "      <th>0</th>\n",
       "      <td>0</td>\n",
       "      <td>0</td>\n",
       "      <td>0</td>\n",
       "      <td>0</td>\n",
       "      <td>0</td>\n",
       "      <td>-1.056270</td>\n",
       "      <td>0.121072</td>\n",
       "      <td>-0.711861</td>\n",
       "      <td>-0.576829</td>\n",
       "      <td>-0.320413</td>\n",
       "      <td>...</td>\n",
       "      <td>1</td>\n",
       "      <td>0</td>\n",
       "      <td>0</td>\n",
       "      <td>0</td>\n",
       "      <td>1</td>\n",
       "      <td>0</td>\n",
       "      <td>0</td>\n",
       "      <td>0</td>\n",
       "      <td>0</td>\n",
       "      <td>1</td>\n",
       "    </tr>\n",
       "    <tr>\n",
       "      <th>1</th>\n",
       "      <td>0</td>\n",
       "      <td>1</td>\n",
       "      <td>1</td>\n",
       "      <td>0</td>\n",
       "      <td>1</td>\n",
       "      <td>-0.772583</td>\n",
       "      <td>1.118644</td>\n",
       "      <td>-0.169194</td>\n",
       "      <td>-0.576829</td>\n",
       "      <td>2.041734</td>\n",
       "      <td>...</td>\n",
       "      <td>0</td>\n",
       "      <td>1</td>\n",
       "      <td>0</td>\n",
       "      <td>0</td>\n",
       "      <td>1</td>\n",
       "      <td>0</td>\n",
       "      <td>0</td>\n",
       "      <td>1</td>\n",
       "      <td>0</td>\n",
       "      <td>0</td>\n",
       "    </tr>\n",
       "    <tr>\n",
       "      <th>2</th>\n",
       "      <td>0</td>\n",
       "      <td>1</td>\n",
       "      <td>0</td>\n",
       "      <td>0</td>\n",
       "      <td>1</td>\n",
       "      <td>-0.583458</td>\n",
       "      <td>-0.024144</td>\n",
       "      <td>-0.303898</td>\n",
       "      <td>-0.576829</td>\n",
       "      <td>0.270124</td>\n",
       "      <td>...</td>\n",
       "      <td>0</td>\n",
       "      <td>0</td>\n",
       "      <td>1</td>\n",
       "      <td>0</td>\n",
       "      <td>1</td>\n",
       "      <td>0</td>\n",
       "      <td>0</td>\n",
       "      <td>1</td>\n",
       "      <td>0</td>\n",
       "      <td>0</td>\n",
       "    </tr>\n",
       "    <tr>\n",
       "      <th>3</th>\n",
       "      <td>0</td>\n",
       "      <td>1</td>\n",
       "      <td>1</td>\n",
       "      <td>0</td>\n",
       "      <td>0</td>\n",
       "      <td>-1.056270</td>\n",
       "      <td>0.017726</td>\n",
       "      <td>-0.250017</td>\n",
       "      <td>0.387967</td>\n",
       "      <td>-0.320413</td>\n",
       "      <td>...</td>\n",
       "      <td>0</td>\n",
       "      <td>0</td>\n",
       "      <td>1</td>\n",
       "      <td>0</td>\n",
       "      <td>0</td>\n",
       "      <td>0</td>\n",
       "      <td>1</td>\n",
       "      <td>0</td>\n",
       "      <td>0</td>\n",
       "      <td>1</td>\n",
       "    </tr>\n",
       "    <tr>\n",
       "      <th>4</th>\n",
       "      <td>0</td>\n",
       "      <td>1</td>\n",
       "      <td>0</td>\n",
       "      <td>0</td>\n",
       "      <td>0</td>\n",
       "      <td>1.686036</td>\n",
       "      <td>-0.472753</td>\n",
       "      <td>-0.146102</td>\n",
       "      <td>-0.576829</td>\n",
       "      <td>-0.320413</td>\n",
       "      <td>...</td>\n",
       "      <td>0</td>\n",
       "      <td>1</td>\n",
       "      <td>0</td>\n",
       "      <td>0</td>\n",
       "      <td>0</td>\n",
       "      <td>0</td>\n",
       "      <td>1</td>\n",
       "      <td>0</td>\n",
       "      <td>0</td>\n",
       "      <td>1</td>\n",
       "    </tr>\n",
       "  </tbody>\n",
       "</table>\n",
       "<p>5 rows × 35 columns</p>\n",
       "</div>"
      ],
      "text/plain": [
       "   default  housing  loan  y  pdays_cat       age   balance  duration  \\\n",
       "0        0        0     0  0          0 -1.056270  0.121072 -0.711861   \n",
       "1        0        1     1  0          1 -0.772583  1.118644 -0.169194   \n",
       "2        0        1     0  0          1 -0.583458 -0.024144 -0.303898   \n",
       "3        0        1     1  0          0 -1.056270  0.017726 -0.250017   \n",
       "4        0        1     0  0          0  1.686036 -0.472753 -0.146102   \n",
       "\n",
       "   campaign  previous        ...         education_primary  \\\n",
       "0 -0.576829 -0.320413        ...                         1   \n",
       "1 -0.576829  2.041734        ...                         0   \n",
       "2 -0.576829  0.270124        ...                         0   \n",
       "3  0.387967 -0.320413        ...                         0   \n",
       "4 -0.576829 -0.320413        ...                         0   \n",
       "\n",
       "   education_secondary  education_tertiary  education_unknown  \\\n",
       "0                    0                   0                  0   \n",
       "1                    1                   0                  0   \n",
       "2                    0                   1                  0   \n",
       "3                    0                   1                  0   \n",
       "4                    1                   0                  0   \n",
       "\n",
       "   contact_cellular  contact_telephone  contact_unknown  poutcome_failure  \\\n",
       "0                 1                  0                0                 0   \n",
       "1                 1                  0                0                 1   \n",
       "2                 1                  0                0                 1   \n",
       "3                 0                  0                1                 0   \n",
       "4                 0                  0                1                 0   \n",
       "\n",
       "   poutcome_success  poutcome_unknown  \n",
       "0                 0                 1  \n",
       "1                 0                 0  \n",
       "2                 0                 0  \n",
       "3                 0                 1  \n",
       "4                 0                 1  \n",
       "\n",
       "[5 rows x 35 columns]"
      ]
     },
     "execution_count": 32,
     "metadata": {},
     "output_type": "execute_result"
    }
   ],
   "source": [
    "# Convertir variables categoricas  a dummies\n",
    "bank_with_dummies = pd.get_dummies(data=bank_data, columns = features_cat, \\\n",
    "                                   prefix = features_cat)\n",
    "bank_with_dummies.head()"
   ]
  },
  {
   "cell_type": "markdown",
   "metadata": {},
   "source": [
    "### **Balanceo de data**\n",
    "\n",
    "\n",
    "<b>NOTA IMPORTANTE</b>: <br>\n",
    "Instalar imblearn con el script (en jupyter):<br>\n",
    "!pip install imblearn\n",
    "<p>\n",
    "ó copiar en el anaconda prompt:<br>\n",
    "\n",
    "conda install -c conda-forge imbalanced-learn"
   ]
  },
  {
   "cell_type": "code",
   "execution_count": 33,
   "metadata": {},
   "outputs": [
    {
     "data": {
      "text/plain": [
       "['default',\n",
       " 'housing',\n",
       " 'loan',\n",
       " 'y',\n",
       " 'pdays_cat',\n",
       " 'age',\n",
       " 'balance',\n",
       " 'duration',\n",
       " 'campaign',\n",
       " 'previous',\n",
       " 'job_admin.',\n",
       " 'job_blue-collar',\n",
       " 'job_entrepreneur',\n",
       " 'job_housemaid',\n",
       " 'job_management',\n",
       " 'job_retired',\n",
       " 'job_self-employed',\n",
       " 'job_services',\n",
       " 'job_student',\n",
       " 'job_technician',\n",
       " 'job_unemployed',\n",
       " 'job_unknown',\n",
       " 'marital_divorced',\n",
       " 'marital_married',\n",
       " 'marital_single',\n",
       " 'education_primary',\n",
       " 'education_secondary',\n",
       " 'education_tertiary',\n",
       " 'education_unknown',\n",
       " 'contact_cellular',\n",
       " 'contact_telephone',\n",
       " 'contact_unknown',\n",
       " 'poutcome_failure',\n",
       " 'poutcome_success',\n",
       " 'poutcome_unknown']"
      ]
     },
     "execution_count": 33,
     "metadata": {},
     "output_type": "execute_result"
    }
   ],
   "source": [
    "list(bank_with_dummies)"
   ]
  },
  {
   "cell_type": "code",
   "execution_count": 34,
   "metadata": {},
   "outputs": [
    {
     "name": "stdout",
     "output_type": "stream",
     "text": [
      "Son 3164 datos en train y 1357 en el test\n"
     ]
    }
   ],
   "source": [
    "from imblearn.over_sampling import SMOTE\n",
    "# Import train_test_split function\n",
    "from sklearn.model_selection import train_test_split\n",
    "\n",
    "cols_x=['default','housing','loan','pdays_cat','age','balance','duration','campaign',\n",
    " 'previous','job_admin.','job_blue-collar','job_entrepreneur','job_housemaid','job_management','job_retired',\n",
    " 'job_self-employed','job_services','job_student','job_technician','job_unemployed',\n",
    " 'job_unknown','marital_divorced','marital_married','marital_single','education_primary',\n",
    " 'education_secondary','education_tertiary','education_unknown','contact_cellular',\n",
    " 'contact_telephone','contact_unknown','poutcome_failure','poutcome_success','poutcome_unknown']\n",
    "smote_X=bank_with_dummies[cols_x]\n",
    "smote_Y=bank_with_dummies['y']\n",
    "\n",
    "\n",
    "#Split train y test de la data\n",
    "smote_train_X,smote_test_X,smote_train_Y,smote_test_Y = train_test_split(smote_X,smote_Y,\n",
    "                                                                         test_size = .3 ,\n",
    "                                                                         random_state = 42)\n",
    "# 70% train and 30% test\n",
    "print('Son',np.size(smote_train_X['default']),'datos en train y',np.size(smote_test_Y ),'en el test')"
   ]
  },
  {
   "cell_type": "code",
   "execution_count": 35,
   "metadata": {},
   "outputs": [],
   "source": [
    "#oversampling clase minoritaria usando SMOTE\n",
    "os = SMOTE(random_state = 0)\n",
    "os_smote_X,os_smote_Y = os.fit_sample(smote_train_X,smote_train_Y)"
   ]
  },
  {
   "cell_type": "code",
   "execution_count": 36,
   "metadata": {},
   "outputs": [],
   "source": [
    "#Colocar en dataframes\n",
    "os_smote_X = pd.DataFrame(data = os_smote_X,columns=cols_x)\n",
    "os_smote_Y = pd.DataFrame(data = os_smote_Y,columns=target_col)\n",
    "###"
   ]
  },
  {
   "cell_type": "code",
   "execution_count": 37,
   "metadata": {},
   "outputs": [
    {
     "data": {
      "image/png": "[encoded data removed]",
      "text/plain": [
       "<Figure size 432x288 with 1 Axes>"
      ]
     },
     "metadata": {
      "needs_background": "light"
     },
     "output_type": "display_data"
    },
    {
     "name": "stdout",
     "output_type": "stream",
     "text": [
      "1    2795\n",
      "0    2795\n",
      "Name: y, dtype: int64\n"
     ]
    }
   ],
   "source": [
    "sns.countplot(x='y',data=os_smote_Y,palette='hls')\n",
    "plt.title('Distribucion de variable target')\n",
    "plt.xlabel('Target')\n",
    "plt.ylabel('Cantidad de clientes')\n",
    "plt.show()\n",
    "\n",
    "#Target: el cliente (1 = Sí, 0 = No)\n",
    "print(os_smote_Y ['y'].value_counts())"
   ]
  },
  {
   "cell_type": "markdown",
   "metadata": {},
   "source": [
    "## Aplicación del modelo"
   ]
  },
  {
   "cell_type": "code",
   "execution_count": 38,
   "metadata": {},
   "outputs": [],
   "source": [
    "# Load libraries\n",
    "from sklearn.ensemble import AdaBoostClassifier\n",
    "#Import scikit-learn metrics module for accuracy calculation\n",
    "from sklearn import metrics"
   ]
  },
  {
   "cell_type": "markdown",
   "metadata": {},
   "source": [
    "### DEFAULT (SAMME.R real boosting algorithm)"
   ]
  },
  {
   "cell_type": "code",
   "execution_count": 40,
   "metadata": {},
   "outputs": [
    {
     "name": "stderr",
     "output_type": "stream",
     "text": [
      "C:\\Users\\KEVIN\\Anaconda3\\lib\\site-packages\\sklearn\\utils\\validation.py:761: DataConversionWarning: A column-vector y was passed when a 1d array was expected. Please change the shape of y to (n_samples, ), for example using ravel().\n",
      "  y = column_or_1d(y, warn=True)\n"
     ]
    },
    {
     "name": "stdout",
     "output_type": "stream",
     "text": [
      "Precisión: 0.855563743552\n"
     ]
    }
   ],
   "source": [
    "# inicializar el modelo (parametros en default)\n",
    "# Create adaboost-decision tree classifer object\n",
    "abc = AdaBoostClassifier()\n",
    "\n",
    "#usar el modelo con la data de entrenamiento\n",
    "model = abc.fit(os_smote_X,os_smote_Y)\n",
    "\n",
    "#Usar modelo en el test\n",
    "y_pred = model.predict(smote_test_X)\n",
    "print(\"Precisión:\",metrics.accuracy_score(smote_test_Y , y_pred))"
   ]
  },
  {
   "cell_type": "code",
   "execution_count": null,
   "metadata": {},
   "outputs": [],
   "source": []
  },
  {
   "cell_type": "code",
   "execution_count": 41,
   "metadata": {},
   "outputs": [
    {
     "name": "stderr",
     "output_type": "stream",
     "text": [
      "C:\\Users\\KEVIN\\Anaconda3\\lib\\site-packages\\ipykernel_launcher.py:2: DataConversionWarning: A column-vector y was passed when a 1d array was expected. Please change the shape of y to (n_samples, ), for example using ravel().\n",
      "  \n"
     ]
    },
    {
     "data": {
      "text/plain": [
       "array(['0', '0', '0', ..., '1', '1', '1'], dtype=object)"
      ]
     },
     "execution_count": 41,
     "metadata": {},
     "output_type": "execute_result"
    }
   ],
   "source": [
    "from sklearn.utils import column_or_1d\n",
    "os_smote_Y = column_or_1d(os_smote_Y, warn=True)\n",
    "os_smote_Y"
   ]
  },
  {
   "cell_type": "markdown",
   "metadata": {},
   "source": [
    "### Tuning n_estimators"
   ]
  },
  {
   "cell_type": "code",
   "execution_count": 42,
   "metadata": {},
   "outputs": [
    {
     "name": "stdout",
     "output_type": "stream",
     "text": [
      "[0.89538146441372246, 0.91113415258576558, 0.91544674859190989, 0.91688108038914484, 0.91759600614439329, 0.91902777777777767, 0.91938492063492061, 0.92028161802355357, 0.92171082949308758]\n"
     ]
    }
   ],
   "source": [
    "from sklearn.model_selection import cross_val_score\n",
    "#Encontrar parametro n_estimators adecuado\n",
    "\n",
    "estimator=np.arange(50,500,50)\n",
    "acc_score=[]\n",
    "for e in estimator:\n",
    "    ada = AdaBoostClassifier(n_estimators=e)\n",
    "    scores = cross_val_score(ada,os_smote_X,os_smote_Y, cv=10, scoring='accuracy')\n",
    "    acc_score.append(scores.mean())\n",
    "print(acc_score)"
   ]
  },
  {
   "cell_type": "code",
   "execution_count": 43,
   "metadata": {},
   "outputs": [
    {
     "data": {
      "text/plain": [
       "Text(0,0.5,'Cross-Validated Accuracy')"
      ]
     },
     "execution_count": 43,
     "metadata": {},
     "output_type": "execute_result"
    },
    {
     "data": {
      "image/png": "[encoded data removed]",
      "text/plain": [
       "<Figure size 432x288 with 1 Axes>"
      ]
     },
     "metadata": {
      "needs_background": "light"
     },
     "output_type": "display_data"
    }
   ],
   "source": [
    "import matplotlib.pyplot as plt\n",
    "%matplotlib inline\n",
    "\n",
    "# plot the value of C for SVM (x-axis) versus the cross-validated accuracy (y-axis)\n",
    "plt.plot(estimator,acc_score,color='r')\n",
    "plt.xlabel('n_estimators for Adaboost ')\n",
    "plt.ylabel('Cross-Validated Accuracy')"
   ]
  },
  {
   "cell_type": "markdown",
   "metadata": {},
   "source": [
    "### Gridsearch"
   ]
  },
  {
   "cell_type": "code",
   "execution_count": 44,
   "metadata": {},
   "outputs": [
    {
     "name": "stdout",
     "output_type": "stream",
     "text": [
      "0.915384615385\n"
     ]
    }
   ],
   "source": [
    "from sklearn.model_selection import GridSearchCV\n",
    "\n",
    "ada=AdaBoostClassifier()\n",
    "#np.arange(0.1,1,0.1)\n",
    "search_grid={'n_estimators':[500,1000,2000],'learning_rate':[.001,0.01,.1]}\n",
    "\n",
    "search=GridSearchCV(estimator=ada,param_grid=search_grid,\n",
    "                   scoring='accuracy',cv=10)\n",
    "\n",
    "search.fit(os_smote_X,os_smote_Y)"
   ]
  },
  {
   "cell_type": "code",
   "execution_count": 62,
   "metadata": {},
   "outputs": [
    {
     "name": "stdout",
     "output_type": "stream",
     "text": [
      "0.915384615385\n"
     ]
    }
   ],
   "source": [
    "print(search.best_score_)"
   ]
  },
  {
   "cell_type": "code",
   "execution_count": 47,
   "metadata": {},
   "outputs": [
    {
     "name": "stderr",
     "output_type": "stream",
     "text": [
      "C:\\Users\\KEVIN\\Anaconda3\\lib\\site-packages\\sklearn\\utils\\deprecation.py:125: FutureWarning: You are accessing a training score ('split0_train_score'), which will not be available by default any more in 0.21. If you need training scores, please set return_train_score=True\n",
      "  warnings.warn(*warn_args, **warn_kwargs)\n",
      "C:\\Users\\KEVIN\\Anaconda3\\lib\\site-packages\\sklearn\\utils\\deprecation.py:125: FutureWarning: You are accessing a training score ('split1_train_score'), which will not be available by default any more in 0.21. If you need training scores, please set return_train_score=True\n",
      "  warnings.warn(*warn_args, **warn_kwargs)\n",
      "C:\\Users\\KEVIN\\Anaconda3\\lib\\site-packages\\sklearn\\utils\\deprecation.py:125: FutureWarning: You are accessing a training score ('split2_train_score'), which will not be available by default any more in 0.21. If you need training scores, please set return_train_score=True\n",
      "  warnings.warn(*warn_args, **warn_kwargs)\n",
      "C:\\Users\\KEVIN\\Anaconda3\\lib\\site-packages\\sklearn\\utils\\deprecation.py:125: FutureWarning: You are accessing a training score ('split3_train_score'), which will not be available by default any more in 0.21. If you need training scores, please set return_train_score=True\n",
      "  warnings.warn(*warn_args, **warn_kwargs)\n",
      "C:\\Users\\KEVIN\\Anaconda3\\lib\\site-packages\\sklearn\\utils\\deprecation.py:125: FutureWarning: You are accessing a training score ('split4_train_score'), which will not be available by default any more in 0.21. If you need training scores, please set return_train_score=True\n",
      "  warnings.warn(*warn_args, **warn_kwargs)\n",
      "C:\\Users\\KEVIN\\Anaconda3\\lib\\site-packages\\sklearn\\utils\\deprecation.py:125: FutureWarning: You are accessing a training score ('split5_train_score'), which will not be available by default any more in 0.21. If you need training scores, please set return_train_score=True\n",
      "  warnings.warn(*warn_args, **warn_kwargs)\n",
      "C:\\Users\\KEVIN\\Anaconda3\\lib\\site-packages\\sklearn\\utils\\deprecation.py:125: FutureWarning: You are accessing a training score ('split6_train_score'), which will not be available by default any more in 0.21. If you need training scores, please set return_train_score=True\n",
      "  warnings.warn(*warn_args, **warn_kwargs)\n",
      "C:\\Users\\KEVIN\\Anaconda3\\lib\\site-packages\\sklearn\\utils\\deprecation.py:125: FutureWarning: You are accessing a training score ('split7_train_score'), which will not be available by default any more in 0.21. If you need training scores, please set return_train_score=True\n",
      "  warnings.warn(*warn_args, **warn_kwargs)\n",
      "C:\\Users\\KEVIN\\Anaconda3\\lib\\site-packages\\sklearn\\utils\\deprecation.py:125: FutureWarning: You are accessing a training score ('split8_train_score'), which will not be available by default any more in 0.21. If you need training scores, please set return_train_score=True\n",
      "  warnings.warn(*warn_args, **warn_kwargs)\n",
      "C:\\Users\\KEVIN\\Anaconda3\\lib\\site-packages\\sklearn\\utils\\deprecation.py:125: FutureWarning: You are accessing a training score ('split9_train_score'), which will not be available by default any more in 0.21. If you need training scores, please set return_train_score=True\n",
      "  warnings.warn(*warn_args, **warn_kwargs)\n",
      "C:\\Users\\KEVIN\\Anaconda3\\lib\\site-packages\\sklearn\\utils\\deprecation.py:125: FutureWarning: You are accessing a training score ('mean_train_score'), which will not be available by default any more in 0.21. If you need training scores, please set return_train_score=True\n",
      "  warnings.warn(*warn_args, **warn_kwargs)\n",
      "C:\\Users\\KEVIN\\Anaconda3\\lib\\site-packages\\sklearn\\utils\\deprecation.py:125: FutureWarning: You are accessing a training score ('std_train_score'), which will not be available by default any more in 0.21. If you need training scores, please set return_train_score=True\n",
      "  warnings.warn(*warn_args, **warn_kwargs)\n"
     ]
    },
    {
     "data": {
      "text/html": [
       "<div>\n",
       "<style scoped>\n",
       "    .dataframe tbody tr th:only-of-type {\n",
       "        vertical-align: middle;\n",
       "    }\n",
       "\n",
       "    .dataframe tbody tr th {\n",
       "        vertical-align: top;\n",
       "    }\n",
       "\n",
       "    .dataframe thead th {\n",
       "        text-align: right;\n",
       "    }\n",
       "</style>\n",
       "<table border=\"1\" class=\"dataframe\">\n",
       "  <thead>\n",
       "    <tr style=\"text-align: right;\">\n",
       "      <th></th>\n",
       "      <th>mean_fit_time</th>\n",
       "      <th>std_fit_time</th>\n",
       "      <th>mean_score_time</th>\n",
       "      <th>std_score_time</th>\n",
       "      <th>param_learning_rate</th>\n",
       "      <th>param_n_estimators</th>\n",
       "      <th>params</th>\n",
       "      <th>split0_test_score</th>\n",
       "      <th>split1_test_score</th>\n",
       "      <th>split2_test_score</th>\n",
       "      <th>...</th>\n",
       "      <th>split2_train_score</th>\n",
       "      <th>split3_train_score</th>\n",
       "      <th>split4_train_score</th>\n",
       "      <th>split5_train_score</th>\n",
       "      <th>split6_train_score</th>\n",
       "      <th>split7_train_score</th>\n",
       "      <th>split8_train_score</th>\n",
       "      <th>split9_train_score</th>\n",
       "      <th>mean_train_score</th>\n",
       "      <th>std_train_score</th>\n",
       "    </tr>\n",
       "  </thead>\n",
       "  <tbody>\n",
       "    <tr>\n",
       "      <th>0</th>\n",
       "      <td>4.411259</td>\n",
       "      <td>0.099596</td>\n",
       "      <td>0.068860</td>\n",
       "      <td>0.003238</td>\n",
       "      <td>0.001</td>\n",
       "      <td>500</td>\n",
       "      <td>{'learning_rate': 0.001, 'n_estimators': 500}</td>\n",
       "      <td>0.755357</td>\n",
       "      <td>0.701786</td>\n",
       "      <td>0.771429</td>\n",
       "      <td>...</td>\n",
       "      <td>0.740358</td>\n",
       "      <td>0.741948</td>\n",
       "      <td>0.745527</td>\n",
       "      <td>0.743442</td>\n",
       "      <td>0.745231</td>\n",
       "      <td>0.746025</td>\n",
       "      <td>0.740859</td>\n",
       "      <td>0.745231</td>\n",
       "      <td>0.743709</td>\n",
       "      <td>0.001912</td>\n",
       "    </tr>\n",
       "    <tr>\n",
       "      <th>1</th>\n",
       "      <td>8.816322</td>\n",
       "      <td>0.084004</td>\n",
       "      <td>0.135322</td>\n",
       "      <td>0.002202</td>\n",
       "      <td>0.001</td>\n",
       "      <td>1000</td>\n",
       "      <td>{'learning_rate': 0.001, 'n_estimators': 1000}</td>\n",
       "      <td>0.771429</td>\n",
       "      <td>0.733929</td>\n",
       "      <td>0.783929</td>\n",
       "      <td>...</td>\n",
       "      <td>0.762823</td>\n",
       "      <td>0.759046</td>\n",
       "      <td>0.763618</td>\n",
       "      <td>0.757750</td>\n",
       "      <td>0.760930</td>\n",
       "      <td>0.756558</td>\n",
       "      <td>0.758347</td>\n",
       "      <td>0.758347</td>\n",
       "      <td>0.760366</td>\n",
       "      <td>0.002685</td>\n",
       "    </tr>\n",
       "    <tr>\n",
       "      <th>2</th>\n",
       "      <td>18.230188</td>\n",
       "      <td>0.929854</td>\n",
       "      <td>0.272142</td>\n",
       "      <td>0.006730</td>\n",
       "      <td>0.001</td>\n",
       "      <td>2000</td>\n",
       "      <td>{'learning_rate': 0.001, 'n_estimators': 2000}</td>\n",
       "      <td>0.796429</td>\n",
       "      <td>0.773214</td>\n",
       "      <td>0.808929</td>\n",
       "      <td>...</td>\n",
       "      <td>0.790060</td>\n",
       "      <td>0.788867</td>\n",
       "      <td>0.789662</td>\n",
       "      <td>0.792925</td>\n",
       "      <td>0.788553</td>\n",
       "      <td>0.785175</td>\n",
       "      <td>0.786367</td>\n",
       "      <td>0.790143</td>\n",
       "      <td>0.789585</td>\n",
       "      <td>0.002482</td>\n",
       "    </tr>\n",
       "    <tr>\n",
       "      <th>3</th>\n",
       "      <td>4.499103</td>\n",
       "      <td>0.047238</td>\n",
       "      <td>0.069563</td>\n",
       "      <td>0.001353</td>\n",
       "      <td>0.01</td>\n",
       "      <td>500</td>\n",
       "      <td>{'learning_rate': 0.01, 'n_estimators': 500}</td>\n",
       "      <td>0.794643</td>\n",
       "      <td>0.800000</td>\n",
       "      <td>0.819643</td>\n",
       "      <td>...</td>\n",
       "      <td>0.821272</td>\n",
       "      <td>0.819085</td>\n",
       "      <td>0.820080</td>\n",
       "      <td>0.819157</td>\n",
       "      <td>0.819952</td>\n",
       "      <td>0.819754</td>\n",
       "      <td>0.817170</td>\n",
       "      <td>0.822734</td>\n",
       "      <td>0.820255</td>\n",
       "      <td>0.001659</td>\n",
       "    </tr>\n",
       "    <tr>\n",
       "      <th>4</th>\n",
       "      <td>9.055484</td>\n",
       "      <td>0.100970</td>\n",
       "      <td>0.138022</td>\n",
       "      <td>0.001514</td>\n",
       "      <td>0.01</td>\n",
       "      <td>1000</td>\n",
       "      <td>{'learning_rate': 0.01, 'n_estimators': 1000}</td>\n",
       "      <td>0.794643</td>\n",
       "      <td>0.823214</td>\n",
       "      <td>0.846429</td>\n",
       "      <td>...</td>\n",
       "      <td>0.847714</td>\n",
       "      <td>0.846322</td>\n",
       "      <td>0.844334</td>\n",
       "      <td>0.847178</td>\n",
       "      <td>0.846582</td>\n",
       "      <td>0.843998</td>\n",
       "      <td>0.845191</td>\n",
       "      <td>0.846383</td>\n",
       "      <td>0.847903</td>\n",
       "      <td>0.005380</td>\n",
       "    </tr>\n",
       "    <tr>\n",
       "      <th>5</th>\n",
       "      <td>17.616350</td>\n",
       "      <td>0.168189</td>\n",
       "      <td>0.274837</td>\n",
       "      <td>0.016325</td>\n",
       "      <td>0.01</td>\n",
       "      <td>2000</td>\n",
       "      <td>{'learning_rate': 0.01, 'n_estimators': 2000}</td>\n",
       "      <td>0.798214</td>\n",
       "      <td>0.844643</td>\n",
       "      <td>0.882143</td>\n",
       "      <td>...</td>\n",
       "      <td>0.870179</td>\n",
       "      <td>0.869583</td>\n",
       "      <td>0.868390</td>\n",
       "      <td>0.870429</td>\n",
       "      <td>0.869237</td>\n",
       "      <td>0.868045</td>\n",
       "      <td>0.866852</td>\n",
       "      <td>0.871025</td>\n",
       "      <td>0.871060</td>\n",
       "      <td>0.005281</td>\n",
       "    </tr>\n",
       "    <tr>\n",
       "      <th>6</th>\n",
       "      <td>4.407463</td>\n",
       "      <td>0.083302</td>\n",
       "      <td>0.067961</td>\n",
       "      <td>0.001095</td>\n",
       "      <td>0.1</td>\n",
       "      <td>500</td>\n",
       "      <td>{'learning_rate': 0.1, 'n_estimators': 500}</td>\n",
       "      <td>0.757143</td>\n",
       "      <td>0.855357</td>\n",
       "      <td>0.910714</td>\n",
       "      <td>...</td>\n",
       "      <td>0.900199</td>\n",
       "      <td>0.895825</td>\n",
       "      <td>0.897416</td>\n",
       "      <td>0.898450</td>\n",
       "      <td>0.898052</td>\n",
       "      <td>0.896463</td>\n",
       "      <td>0.897854</td>\n",
       "      <td>0.898251</td>\n",
       "      <td>0.900478</td>\n",
       "      <td>0.006359</td>\n",
       "    </tr>\n",
       "    <tr>\n",
       "      <th>7</th>\n",
       "      <td>8.970133</td>\n",
       "      <td>0.138443</td>\n",
       "      <td>0.137922</td>\n",
       "      <td>0.002324</td>\n",
       "      <td>0.1</td>\n",
       "      <td>1000</td>\n",
       "      <td>{'learning_rate': 0.1, 'n_estimators': 1000}</td>\n",
       "      <td>0.723214</td>\n",
       "      <td>0.871429</td>\n",
       "      <td>0.941071</td>\n",
       "      <td>...</td>\n",
       "      <td>0.913320</td>\n",
       "      <td>0.915308</td>\n",
       "      <td>0.914513</td>\n",
       "      <td>0.914348</td>\n",
       "      <td>0.915541</td>\n",
       "      <td>0.913951</td>\n",
       "      <td>0.911765</td>\n",
       "      <td>0.913951</td>\n",
       "      <td>0.917552</td>\n",
       "      <td>0.008246</td>\n",
       "    </tr>\n",
       "    <tr>\n",
       "      <th>8</th>\n",
       "      <td>18.112056</td>\n",
       "      <td>0.217821</td>\n",
       "      <td>0.275646</td>\n",
       "      <td>0.003184</td>\n",
       "      <td>0.1</td>\n",
       "      <td>2000</td>\n",
       "      <td>{'learning_rate': 0.1, 'n_estimators': 2000}</td>\n",
       "      <td>0.698214</td>\n",
       "      <td>0.880357</td>\n",
       "      <td>0.950000</td>\n",
       "      <td>...</td>\n",
       "      <td>0.925447</td>\n",
       "      <td>0.926243</td>\n",
       "      <td>0.926441</td>\n",
       "      <td>0.929054</td>\n",
       "      <td>0.927266</td>\n",
       "      <td>0.926272</td>\n",
       "      <td>0.925874</td>\n",
       "      <td>0.927464</td>\n",
       "      <td>0.930432</td>\n",
       "      <td>0.008642</td>\n",
       "    </tr>\n",
       "  </tbody>\n",
       "</table>\n",
       "<p>9 rows × 32 columns</p>\n",
       "</div>"
      ],
      "text/plain": [
       "   mean_fit_time  std_fit_time  mean_score_time  std_score_time  \\\n",
       "0       4.411259      0.099596         0.068860        0.003238   \n",
       "1       8.816322      0.084004         0.135322        0.002202   \n",
       "2      18.230188      0.929854         0.272142        0.006730   \n",
       "3       4.499103      0.047238         0.069563        0.001353   \n",
       "4       9.055484      0.100970         0.138022        0.001514   \n",
       "5      17.616350      0.168189         0.274837        0.016325   \n",
       "6       4.407463      0.083302         0.067961        0.001095   \n",
       "7       8.970133      0.138443         0.137922        0.002324   \n",
       "8      18.112056      0.217821         0.275646        0.003184   \n",
       "\n",
       "  param_learning_rate param_n_estimators  \\\n",
       "0               0.001                500   \n",
       "1               0.001               1000   \n",
       "2               0.001               2000   \n",
       "3                0.01                500   \n",
       "4                0.01               1000   \n",
       "5                0.01               2000   \n",
       "6                 0.1                500   \n",
       "7                 0.1               1000   \n",
       "8                 0.1               2000   \n",
       "\n",
       "                                           params  split0_test_score  \\\n",
       "0   {'learning_rate': 0.001, 'n_estimators': 500}           0.755357   \n",
       "1  {'learning_rate': 0.001, 'n_estimators': 1000}           0.771429   \n",
       "2  {'learning_rate': 0.001, 'n_estimators': 2000}           0.796429   \n",
       "3    {'learning_rate': 0.01, 'n_estimators': 500}           0.794643   \n",
       "4   {'learning_rate': 0.01, 'n_estimators': 1000}           0.794643   \n",
       "5   {'learning_rate': 0.01, 'n_estimators': 2000}           0.798214   \n",
       "6     {'learning_rate': 0.1, 'n_estimators': 500}           0.757143   \n",
       "7    {'learning_rate': 0.1, 'n_estimators': 1000}           0.723214   \n",
       "8    {'learning_rate': 0.1, 'n_estimators': 2000}           0.698214   \n",
       "\n",
       "   split1_test_score  split2_test_score       ...         split2_train_score  \\\n",
       "0           0.701786           0.771429       ...                   0.740358   \n",
       "1           0.733929           0.783929       ...                   0.762823   \n",
       "2           0.773214           0.808929       ...                   0.790060   \n",
       "3           0.800000           0.819643       ...                   0.821272   \n",
       "4           0.823214           0.846429       ...                   0.847714   \n",
       "5           0.844643           0.882143       ...                   0.870179   \n",
       "6           0.855357           0.910714       ...                   0.900199   \n",
       "7           0.871429           0.941071       ...                   0.913320   \n",
       "8           0.880357           0.950000       ...                   0.925447   \n",
       "\n",
       "   split3_train_score  split4_train_score  split5_train_score  \\\n",
       "0            0.741948            0.745527            0.743442   \n",
       "1            0.759046            0.763618            0.757750   \n",
       "2            0.788867            0.789662            0.792925   \n",
       "3            0.819085            0.820080            0.819157   \n",
       "4            0.846322            0.844334            0.847178   \n",
       "5            0.869583            0.868390            0.870429   \n",
       "6            0.895825            0.897416            0.898450   \n",
       "7            0.915308            0.914513            0.914348   \n",
       "8            0.926243            0.926441            0.929054   \n",
       "\n",
       "   split6_train_score  split7_train_score  split8_train_score  \\\n",
       "0            0.745231            0.746025            0.740859   \n",
       "1            0.760930            0.756558            0.758347   \n",
       "2            0.788553            0.785175            0.786367   \n",
       "3            0.819952            0.819754            0.817170   \n",
       "4            0.846582            0.843998            0.845191   \n",
       "5            0.869237            0.868045            0.866852   \n",
       "6            0.898052            0.896463            0.897854   \n",
       "7            0.915541            0.913951            0.911765   \n",
       "8            0.927266            0.926272            0.925874   \n",
       "\n",
       "   split9_train_score  mean_train_score  std_train_score  \n",
       "0            0.745231          0.743709         0.001912  \n",
       "1            0.758347          0.760366         0.002685  \n",
       "2            0.790143          0.789585         0.002482  \n",
       "3            0.822734          0.820255         0.001659  \n",
       "4            0.846383          0.847903         0.005380  \n",
       "5            0.871025          0.871060         0.005281  \n",
       "6            0.898251          0.900478         0.006359  \n",
       "7            0.913951          0.917552         0.008246  \n",
       "8            0.927464          0.930432         0.008642  \n",
       "\n",
       "[9 rows x 32 columns]"
      ]
     },
     "execution_count": 47,
     "metadata": {},
     "output_type": "execute_result"
    }
   ],
   "source": [
    "grid_df=pd.DataFrame(search.cv_results_)\n",
    "grid_df"
   ]
  },
  {
   "cell_type": "code",
   "execution_count": 57,
   "metadata": {},
   "outputs": [
    {
     "data": {
      "text/plain": [
       "[0.74370891503127501,\n",
       " 0.76036612597862752,\n",
       " 0.78958476486075591,\n",
       " 0.82025452215166861,\n",
       " 0.84790340627143357,\n",
       " 0.87105981756519701,\n",
       " 0.90047757177127996,\n",
       " 0.91755190636783435,\n",
       " 0.9304319709722586]"
      ]
     },
     "execution_count": 57,
     "metadata": {},
     "output_type": "execute_result"
    }
   ],
   "source": [
    "lista=[]\n",
    "for x in range(0,grid_df['mean_train_score'].shape[0]):\n",
    "    lista.append(grid_df['mean_train_score'][x])\n",
    "lista"
   ]
  },
  {
   "cell_type": "code",
   "execution_count": 60,
   "metadata": {},
   "outputs": [
    {
     "data": {
      "image/png": "[encoded data removed]",
      "text/plain": [
       "<Figure size 432x288 with 1 Axes>"
      ]
     },
     "metadata": {
      "needs_background": "light"
     },
     "output_type": "display_data"
    }
   ],
   "source": [
    "#plot de gridsearch\n",
    "est=[500,1000,2000]\n",
    "lrn_rt=[.001,0.01,.1]\n",
    "\n",
    "scores = [lista]\n",
    "scores = np.array(scores).reshape(len(lrn_rt), len(est))\n",
    "\n",
    "for ind, i in enumerate(lrn_rt):\n",
    "    plt.plot(est, scores[ind], label='l_rate: ' + str(i))\n",
    "plt.legend()\n",
    "plt.xlabel('Learning rate')\n",
    "plt.ylabel('Mean score')\n",
    "plt.show()"
   ]
  },
  {
   "cell_type": "code",
   "execution_count": 61,
   "metadata": {},
   "outputs": [
    {
     "name": "stdout",
     "output_type": "stream",
     "text": [
      "Mejores hiperparametros:  {'learning_rate': 0.1, 'n_estimators': 2000}\n"
     ]
    }
   ],
   "source": [
    "#Mejores hiperparametros:\n",
    "print('Mejores hiperparametros: ',search.best_params_)"
   ]
  },
  {
   "cell_type": "code",
   "execution_count": 71,
   "metadata": {},
   "outputs": [
    {
     "name": "stdout",
     "output_type": "stream",
     "text": [
      "0.877671333825\n"
     ]
    }
   ],
   "source": [
    "#PREDECIR\n",
    "y_pred_search= search.predict(smote_test_X)\n",
    "print(metrics.accuracy_score(smote_test_Y,y_pred_search))"
   ]
  },
  {
   "cell_type": "markdown",
   "metadata": {},
   "source": [
    "\n",
    "<img src=\"https://educationalresearchtechniques.files.wordpress.com/2016/08/13.png?w=415\" width=\"300\">\n",
    "<center> <i>Imagen referencial matriz de confusión"
   ]
  },
  {
   "cell_type": "code",
   "execution_count": 69,
   "metadata": {},
   "outputs": [
    {
     "data": {
      "text/plain": [
       "Text(0.5,15,'Predicted label')"
      ]
     },
     "execution_count": 69,
     "metadata": {},
     "output_type": "execute_result"
    },
    {
     "data": {
      "image/png": "[encoded data removed]",
      "text/plain": [
       "<Figure size 432x288 with 2 Axes>"
      ]
     },
     "metadata": {
      "needs_background": "light"
     },
     "output_type": "display_data"
    }
   ],
   "source": [
    "from sklearn.metrics import confusion_matrix\n",
    "\n",
    "confusion_matrix = confusion_matrix(smote_test_Y, y_pred_search)\n",
    "\n",
    "class_names=['No deposita','Si deposita'] # clases\n",
    "# create mapa de calor\n",
    "sns.heatmap(confusion_matrix,xticklabels=class_names,yticklabels=class_names, annot=True, cmap=\"YlGnBu\" ,fmt='g')\n",
    "plt.tight_layout()\n",
    "plt.title('Confusion matrix', y=1.1)\n",
    "plt.ylabel('Actual label')\n",
    "plt.xlabel('Predicted label')"
   ]
  },
  {
   "cell_type": "markdown",
   "metadata": {},
   "source": [
    "## Usando SVM  con Adaboost"
   ]
  },
  {
   "cell_type": "code",
   "execution_count": null,
   "metadata": {},
   "outputs": [
    {
     "name": "stderr",
     "output_type": "stream",
     "text": [
      "C:\\Users\\KEVIN\\Anaconda3\\lib\\site-packages\\sklearn\\svm\\base.py:196: FutureWarning: The default value of gamma will change from 'auto' to 'scale' in version 0.22 to account better for unscaled features. Set gamma explicitly to 'auto' or 'scale' to avoid this warning.\n",
      "  \"avoid this warning.\", FutureWarning)\n",
      "C:\\Users\\KEVIN\\Anaconda3\\lib\\site-packages\\sklearn\\svm\\base.py:196: FutureWarning: The default value of gamma will change from 'auto' to 'scale' in version 0.22 to account better for unscaled features. Set gamma explicitly to 'auto' or 'scale' to avoid this warning.\n",
      "  \"avoid this warning.\", FutureWarning)\n",
      "C:\\Users\\KEVIN\\Anaconda3\\lib\\site-packages\\sklearn\\svm\\base.py:196: FutureWarning: The default value of gamma will change from 'auto' to 'scale' in version 0.22 to account better for unscaled features. Set gamma explicitly to 'auto' or 'scale' to avoid this warning.\n",
      "  \"avoid this warning.\", FutureWarning)\n",
      "C:\\Users\\KEVIN\\Anaconda3\\lib\\site-packages\\sklearn\\svm\\base.py:196: FutureWarning: The default value of gamma will change from 'auto' to 'scale' in version 0.22 to account better for unscaled features. Set gamma explicitly to 'auto' or 'scale' to avoid this warning.\n",
      "  \"avoid this warning.\", FutureWarning)\n",
      "C:\\Users\\KEVIN\\Anaconda3\\lib\\site-packages\\sklearn\\svm\\base.py:196: FutureWarning: The default value of gamma will change from 'auto' to 'scale' in version 0.22 to account better for unscaled features. Set gamma explicitly to 'auto' or 'scale' to avoid this warning.\n",
      "  \"avoid this warning.\", FutureWarning)\n",
      "C:\\Users\\KEVIN\\Anaconda3\\lib\\site-packages\\sklearn\\svm\\base.py:196: FutureWarning: The default value of gamma will change from 'auto' to 'scale' in version 0.22 to account better for unscaled features. Set gamma explicitly to 'auto' or 'scale' to avoid this warning.\n",
      "  \"avoid this warning.\", FutureWarning)\n",
      "C:\\Users\\KEVIN\\Anaconda3\\lib\\site-packages\\sklearn\\svm\\base.py:196: FutureWarning: The default value of gamma will change from 'auto' to 'scale' in version 0.22 to account better for unscaled features. Set gamma explicitly to 'auto' or 'scale' to avoid this warning.\n",
      "  \"avoid this warning.\", FutureWarning)\n",
      "C:\\Users\\KEVIN\\Anaconda3\\lib\\site-packages\\sklearn\\svm\\base.py:196: FutureWarning: The default value of gamma will change from 'auto' to 'scale' in version 0.22 to account better for unscaled features. Set gamma explicitly to 'auto' or 'scale' to avoid this warning.\n",
      "  \"avoid this warning.\", FutureWarning)\n",
      "C:\\Users\\KEVIN\\Anaconda3\\lib\\site-packages\\sklearn\\svm\\base.py:196: FutureWarning: The default value of gamma will change from 'auto' to 'scale' in version 0.22 to account better for unscaled features. Set gamma explicitly to 'auto' or 'scale' to avoid this warning.\n",
      "  \"avoid this warning.\", FutureWarning)\n",
      "C:\\Users\\KEVIN\\Anaconda3\\lib\\site-packages\\sklearn\\svm\\base.py:196: FutureWarning: The default value of gamma will change from 'auto' to 'scale' in version 0.22 to account better for unscaled features. Set gamma explicitly to 'auto' or 'scale' to avoid this warning.\n",
      "  \"avoid this warning.\", FutureWarning)\n",
      "C:\\Users\\KEVIN\\Anaconda3\\lib\\site-packages\\sklearn\\svm\\base.py:196: FutureWarning: The default value of gamma will change from 'auto' to 'scale' in version 0.22 to account better for unscaled features. Set gamma explicitly to 'auto' or 'scale' to avoid this warning.\n",
      "  \"avoid this warning.\", FutureWarning)\n",
      "C:\\Users\\KEVIN\\Anaconda3\\lib\\site-packages\\sklearn\\svm\\base.py:196: FutureWarning: The default value of gamma will change from 'auto' to 'scale' in version 0.22 to account better for unscaled features. Set gamma explicitly to 'auto' or 'scale' to avoid this warning.\n",
      "  \"avoid this warning.\", FutureWarning)\n",
      "C:\\Users\\KEVIN\\Anaconda3\\lib\\site-packages\\sklearn\\svm\\base.py:196: FutureWarning: The default value of gamma will change from 'auto' to 'scale' in version 0.22 to account better for unscaled features. Set gamma explicitly to 'auto' or 'scale' to avoid this warning.\n",
      "  \"avoid this warning.\", FutureWarning)\n",
      "C:\\Users\\KEVIN\\Anaconda3\\lib\\site-packages\\sklearn\\svm\\base.py:196: FutureWarning: The default value of gamma will change from 'auto' to 'scale' in version 0.22 to account better for unscaled features. Set gamma explicitly to 'auto' or 'scale' to avoid this warning.\n",
      "  \"avoid this warning.\", FutureWarning)\n",
      "C:\\Users\\KEVIN\\Anaconda3\\lib\\site-packages\\sklearn\\svm\\base.py:196: FutureWarning: The default value of gamma will change from 'auto' to 'scale' in version 0.22 to account better for unscaled features. Set gamma explicitly to 'auto' or 'scale' to avoid this warning.\n",
      "  \"avoid this warning.\", FutureWarning)\n",
      "C:\\Users\\KEVIN\\Anaconda3\\lib\\site-packages\\sklearn\\svm\\base.py:196: FutureWarning: The default value of gamma will change from 'auto' to 'scale' in version 0.22 to account better for unscaled features. Set gamma explicitly to 'auto' or 'scale' to avoid this warning.\n",
      "  \"avoid this warning.\", FutureWarning)\n",
      "C:\\Users\\KEVIN\\Anaconda3\\lib\\site-packages\\sklearn\\svm\\base.py:196: FutureWarning: The default value of gamma will change from 'auto' to 'scale' in version 0.22 to account better for unscaled features. Set gamma explicitly to 'auto' or 'scale' to avoid this warning.\n",
      "  \"avoid this warning.\", FutureWarning)\n",
      "C:\\Users\\KEVIN\\Anaconda3\\lib\\site-packages\\sklearn\\svm\\base.py:196: FutureWarning: The default value of gamma will change from 'auto' to 'scale' in version 0.22 to account better for unscaled features. Set gamma explicitly to 'auto' or 'scale' to avoid this warning.\n",
      "  \"avoid this warning.\", FutureWarning)\n",
      "C:\\Users\\KEVIN\\Anaconda3\\lib\\site-packages\\sklearn\\svm\\base.py:196: FutureWarning: The default value of gamma will change from 'auto' to 'scale' in version 0.22 to account better for unscaled features. Set gamma explicitly to 'auto' or 'scale' to avoid this warning.\n",
      "  \"avoid this warning.\", FutureWarning)\n",
      "C:\\Users\\KEVIN\\Anaconda3\\lib\\site-packages\\sklearn\\svm\\base.py:196: FutureWarning: The default value of gamma will change from 'auto' to 'scale' in version 0.22 to account better for unscaled features. Set gamma explicitly to 'auto' or 'scale' to avoid this warning.\n",
      "  \"avoid this warning.\", FutureWarning)\n",
      "C:\\Users\\KEVIN\\Anaconda3\\lib\\site-packages\\sklearn\\svm\\base.py:196: FutureWarning: The default value of gamma will change from 'auto' to 'scale' in version 0.22 to account better for unscaled features. Set gamma explicitly to 'auto' or 'scale' to avoid this warning.\n",
      "  \"avoid this warning.\", FutureWarning)\n",
      "C:\\Users\\KEVIN\\Anaconda3\\lib\\site-packages\\sklearn\\svm\\base.py:196: FutureWarning: The default value of gamma will change from 'auto' to 'scale' in version 0.22 to account better for unscaled features. Set gamma explicitly to 'auto' or 'scale' to avoid this warning.\n",
      "  \"avoid this warning.\", FutureWarning)\n",
      "C:\\Users\\KEVIN\\Anaconda3\\lib\\site-packages\\sklearn\\svm\\base.py:196: FutureWarning: The default value of gamma will change from 'auto' to 'scale' in version 0.22 to account better for unscaled features. Set gamma explicitly to 'auto' or 'scale' to avoid this warning.\n",
      "  \"avoid this warning.\", FutureWarning)\n",
      "C:\\Users\\KEVIN\\Anaconda3\\lib\\site-packages\\sklearn\\svm\\base.py:196: FutureWarning: The default value of gamma will change from 'auto' to 'scale' in version 0.22 to account better for unscaled features. Set gamma explicitly to 'auto' or 'scale' to avoid this warning.\n",
      "  \"avoid this warning.\", FutureWarning)\n",
      "C:\\Users\\KEVIN\\Anaconda3\\lib\\site-packages\\sklearn\\svm\\base.py:196: FutureWarning: The default value of gamma will change from 'auto' to 'scale' in version 0.22 to account better for unscaled features. Set gamma explicitly to 'auto' or 'scale' to avoid this warning.\n",
      "  \"avoid this warning.\", FutureWarning)\n",
      "C:\\Users\\KEVIN\\Anaconda3\\lib\\site-packages\\sklearn\\svm\\base.py:196: FutureWarning: The default value of gamma will change from 'auto' to 'scale' in version 0.22 to account better for unscaled features. Set gamma explicitly to 'auto' or 'scale' to avoid this warning.\n",
      "  \"avoid this warning.\", FutureWarning)\n",
      "C:\\Users\\KEVIN\\Anaconda3\\lib\\site-packages\\sklearn\\svm\\base.py:196: FutureWarning: The default value of gamma will change from 'auto' to 'scale' in version 0.22 to account better for unscaled features. Set gamma explicitly to 'auto' or 'scale' to avoid this warning.\n",
      "  \"avoid this warning.\", FutureWarning)\n"
     ]
    },
    {
     "name": "stderr",
     "output_type": "stream",
     "text": [
      "C:\\Users\\KEVIN\\Anaconda3\\lib\\site-packages\\sklearn\\svm\\base.py:196: FutureWarning: The default value of gamma will change from 'auto' to 'scale' in version 0.22 to account better for unscaled features. Set gamma explicitly to 'auto' or 'scale' to avoid this warning.\n",
      "  \"avoid this warning.\", FutureWarning)\n",
      "C:\\Users\\KEVIN\\Anaconda3\\lib\\site-packages\\sklearn\\svm\\base.py:196: FutureWarning: The default value of gamma will change from 'auto' to 'scale' in version 0.22 to account better for unscaled features. Set gamma explicitly to 'auto' or 'scale' to avoid this warning.\n",
      "  \"avoid this warning.\", FutureWarning)\n",
      "C:\\Users\\KEVIN\\Anaconda3\\lib\\site-packages\\sklearn\\svm\\base.py:196: FutureWarning: The default value of gamma will change from 'auto' to 'scale' in version 0.22 to account better for unscaled features. Set gamma explicitly to 'auto' or 'scale' to avoid this warning.\n",
      "  \"avoid this warning.\", FutureWarning)\n",
      "C:\\Users\\KEVIN\\Anaconda3\\lib\\site-packages\\sklearn\\svm\\base.py:196: FutureWarning: The default value of gamma will change from 'auto' to 'scale' in version 0.22 to account better for unscaled features. Set gamma explicitly to 'auto' or 'scale' to avoid this warning.\n",
      "  \"avoid this warning.\", FutureWarning)\n",
      "C:\\Users\\KEVIN\\Anaconda3\\lib\\site-packages\\sklearn\\svm\\base.py:196: FutureWarning: The default value of gamma will change from 'auto' to 'scale' in version 0.22 to account better for unscaled features. Set gamma explicitly to 'auto' or 'scale' to avoid this warning.\n",
      "  \"avoid this warning.\", FutureWarning)\n",
      "C:\\Users\\KEVIN\\Anaconda3\\lib\\site-packages\\sklearn\\svm\\base.py:196: FutureWarning: The default value of gamma will change from 'auto' to 'scale' in version 0.22 to account better for unscaled features. Set gamma explicitly to 'auto' or 'scale' to avoid this warning.\n",
      "  \"avoid this warning.\", FutureWarning)\n",
      "C:\\Users\\KEVIN\\Anaconda3\\lib\\site-packages\\sklearn\\svm\\base.py:196: FutureWarning: The default value of gamma will change from 'auto' to 'scale' in version 0.22 to account better for unscaled features. Set gamma explicitly to 'auto' or 'scale' to avoid this warning.\n",
      "  \"avoid this warning.\", FutureWarning)\n",
      "C:\\Users\\KEVIN\\Anaconda3\\lib\\site-packages\\sklearn\\svm\\base.py:196: FutureWarning: The default value of gamma will change from 'auto' to 'scale' in version 0.22 to account better for unscaled features. Set gamma explicitly to 'auto' or 'scale' to avoid this warning.\n",
      "  \"avoid this warning.\", FutureWarning)\n",
      "C:\\Users\\KEVIN\\Anaconda3\\lib\\site-packages\\sklearn\\svm\\base.py:196: FutureWarning: The default value of gamma will change from 'auto' to 'scale' in version 0.22 to account better for unscaled features. Set gamma explicitly to 'auto' or 'scale' to avoid this warning.\n",
      "  \"avoid this warning.\", FutureWarning)\n"
     ]
    }
   ],
   "source": [
    "# Import Support Vector Classifier\n",
    "from sklearn.svm import SVC\n",
    "\n",
    "svc=SVC(probability=True)\n",
    "\n",
    "# Create adaboost classifer object\n",
    "abc_svc =AdaBoostClassifier(n_estimators=50, base_estimator=svc,learning_rate=1)\n",
    "\n",
    "#usar el modelo con la data de entrenamiento\n",
    "model_svc = abc_svc.fit(os_smote_X,os_smote_Y)\n",
    "\n",
    "#Usar modelo en el test\n",
    "y_pred_svc = model_svc.predict(smote_test_X)\n",
    "print(\"Precisión:\",metrics.accuracy_score(smote_test_Y , y_pred_svc))\n"
   ]
  }
 ],
 "metadata": {
  "kernelspec": {
   "display_name": "Python 3",
   "language": "python",
   "name": "python3"
  },
  "language_info": {
   "codemirror_mode": {
    "name": "ipython",
    "version": 3
   },
   "file_extension": ".py",
   "mimetype": "text/x-python",
   "name": "python",
   "nbconvert_exporter": "python",
   "pygments_lexer": "ipython3",
   "version": "3.7.3"
  }
 },
 "nbformat": 4,
 "nbformat_minor": 2
}
